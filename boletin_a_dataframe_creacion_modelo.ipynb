{
 "cells": [
  {
   "cell_type": "code",
   "execution_count": 2,
   "metadata": {},
   "outputs": [
    {
     "name": "stderr",
     "output_type": "stream",
     "text": [
      "Using TensorFlow backend.\n"
     ]
    }
   ],
   "source": [
    "from selenium import webdriver\n",
    "import time\n",
    "from keras import models,layers\n",
    "import matplotlib.pyplot as plt\n",
    "import tensorflow\n",
    "import pandas as pd\n",
    "import numpy as np\n",
    "from keras.preprocessing.text import text_to_word_sequence\n",
    "from keras.preprocessing.text import one_hot\n",
    "from sklearn.model_selection import train_test_split\n",
    "from sklearn.preprocessing import LabelEncoder\n",
    "from sklearn.preprocessing import OneHotEncoder"
   ]
  },
  {
   "cell_type": "code",
   "execution_count": 3,
   "metadata": {},
   "outputs": [
    {
     "name": "stdout",
     "output_type": "stream",
     "text": [
      "=====================================================================================\n",
      "=====================================================================================\n",
      "=====================================================================================\n",
      "=====================================================================================\n"
     ]
    }
   ],
   "source": [
    "try:\n",
    "    driver=webdriver.Chrome(\"chromedriver.exe\")\n",
    "    driver.get(\"https://www.boletinoficial.gob.ar/#!Portada/primera/all\")\n",
    "    time.sleep(5)\n",
    "\n",
    "    \n",
    "\n",
    "    all_h2 = driver.find_elements_by_xpath(\"//*[@id='Primera']/h2[@class='ttlsection']\")\n",
    "    all_items = driver.find_elements_by_xpath(\"//*[@id='Primera']/div[@id='PorCadaNorma']\")\n",
    "    all_detalle_norma=driver.find_elements_by_xpath(\"//html/body/section[3]/div[2]/div[1]/section[1]/div[2]/div[1]/div\")\n",
    "    h2index=range(1,len(all_h2)+1)\n",
    "    h3indexahref=range(1,len(all_items)+1)\n",
    "    all_detalle_norma_rango=len(all_detalle_norma)\n",
    "    \n",
    "    print(\"=====================================================================================\")\n",
    "    listarubro=[]#LISTA DE RUBROS\n",
    "    print(\"=====================================================================================\")\n",
    "    #INSERTAR ELEMENTOS A LISTA DE RUBROS\n",
    "    for i in h2index:\n",
    "        span=driver.find_element_by_xpath(\"/html/body/section[3]/div[2]/div[1]/div[6]/h2[{}]/span[1]\".format(i))\n",
    "        listarubro.append(span.text)\n",
    "    #===========================================FIN INSERT\n",
    "\n",
    "    print(\"=====================================================================================\")\n",
    "    listanorma=[]#LISTA DE NORMAS\n",
    "    print(\"=====================================================================================\")\n",
    "    #INSERTAR ELEMENTOS A LISTA DE NORMAS\n",
    "    for i in h3indexahref:\n",
    "        ahref=driver.find_element_by_xpath(\"/html/body/section[3]/div[2]/div[1]/div[6]/div[{}]/div/h3/a\".format(i))\n",
    "        listanorma.append(ahref.text)\n",
    "        \n",
    "        \n",
    "    #========================================FIN INSERT\n",
    "        \n",
    "    #=====================================================================\n",
    "    #CREACION DE LISTA CON TODOS LOS ELEMENTOS DE PRIMERA SECCION\n",
    "    divprimera=driver.find_element_by_xpath('//*[@id=\"Primera\"]')\n",
    "    divprimertext=divprimera.text\n",
    "    listprimer=[]\n",
    "    #=====================================================================FIN CREACION\n",
    "    \n",
    "    #LIMPIEZA E INSERSION DE DATOS A LISTA DE PRIMERA SECCION\n",
    "    listprimer.append(divprimertext.split(\"\\n\"))\n",
    "    primerlen=len(listprimer[0])\n",
    "    #===========================================================FIN LIMPIEZA\n",
    "\n",
    "    #=======================================================================\n",
    "    #CREACION DE LISTA CON RUBRO Y DETALLENORMA ADENTRO FORMATO = 'RUBRO',[DETALLENORMA],'RUBRO',[DETALLENORMA]\n",
    "    listaseparacion=[]\n",
    "    for i in listprimer[0]:\n",
    "        if i in listarubro:\n",
    "            listaseparacion.append(i)\n",
    "        if i in listanorma:\n",
    "            listaseparacion.append(list([i]))\n",
    "    #================================================FIN LISTA 'RUBRO',['DETALLENORMA']\n",
    "\n",
    "    #==========================================================\n",
    "    #CREACION DE DICCIONARIO {'RUBRO':[DETALLENORMA PERTENECIENTE A CADA RUBRO]}\n",
    "    diccionarie={}\n",
    "    def agregar_key(dictio):\n",
    "        for i in listarubro:\n",
    "            dictio[i]=[]\n",
    "        keys=[]\n",
    "        keys.extend(diccionarie.keys())\n",
    "        key=keys[0]\n",
    "        for i in listaseparacion:\n",
    "            if i in keys:\n",
    "                key=i\n",
    "            else:\n",
    "                diccionarie[key].extend(i)\n",
    "        return dictio\n",
    "            \n",
    "    agregar_key(diccionarie)\n",
    "    #====================================================FIN DICCIONARIO{'RUBRO':[DETALLENORMA]}\n",
    "except:\n",
    "    raise\n",
    "finally:\n",
    "    driver.close()\n"
   ]
  },
  {
   "cell_type": "markdown",
   "metadata": {},
   "source": [
    "#### a partir de esta celda se encuentra los pasos para la creacion del Dataset con los datos de rubro,norma\n",
    "#### que se actualizan si hay mas rubros,normas disponibles cada vez que ejecutamos el codigo anterior"
   ]
  },
  {
   "cell_type": "code",
   "execution_count": 4,
   "metadata": {},
   "outputs": [],
   "source": [
    "#creacion del dataframe a partir del diccionario creado anteriormente, con un reset de indices para un mejor manejo\n",
    "datos=pd.DataFrame.from_dict(diccionarie,orient=\"index\").reset_index()\n",
    "diccionario={\"rubro\":[],\"detallenorma\":[]}\n",
    "\n",
    "for i in datos.T:\n",
    "    for j in datos[i]:\n",
    "        j=str(j)\n",
    "        if j != 'None':\n",
    "            \n",
    "            diccionario[\"rubro\"].append(datos.iloc[i,0])\n",
    "            diccionario[\"detallenorma\"].append(j)\n",
    "datosgood=pd.DataFrame(diccionario)"
   ]
  },
  {
   "cell_type": "code",
   "execution_count": 5,
   "metadata": {},
   "outputs": [],
   "source": [
    "#convertimos los datos a strings para el manejo de los nonetype values y que no nos tire error \n",
    "x=datosgood"
   ]
  },
  {
   "cell_type": "code",
   "execution_count": 6,
   "metadata": {},
   "outputs": [
    {
     "data": {
      "text/plain": [
       "array([['DECRETOS'],\n",
       "       ['DECRETOS'],\n",
       "       ['DECRETOS'],\n",
       "       ['DECRETOS'],\n",
       "       ['DECRETOS'],\n",
       "       ['DECRETOS'],\n",
       "       ['DECRETOS'],\n",
       "       ['DECRETOS'],\n",
       "       ['DECRETOS'],\n",
       "       ['DECISIONES ADMINISTRATIVAS'],\n",
       "       ['DECISIONES ADMINISTRATIVAS'],\n",
       "       ['DECISIONES ADMINISTRATIVAS'],\n",
       "       ['DECISIONES ADMINISTRATIVAS'],\n",
       "       ['DECISIONES ADMINISTRATIVAS'],\n",
       "       ['DECISIONES ADMINISTRATIVAS'],\n",
       "       ['DECISIONES ADMINISTRATIVAS'],\n",
       "       ['RESOLUCIONES'],\n",
       "       ['RESOLUCIONES'],\n",
       "       ['RESOLUCIONES'],\n",
       "       ['RESOLUCIONES'],\n",
       "       ['RESOLUCIONES'],\n",
       "       ['RESOLUCIONES'],\n",
       "       ['RESOLUCIONES CONJUNTAS'],\n",
       "       ['RESOLUCIONES CONJUNTAS'],\n",
       "       ['RESOLUCIONES CONJUNTAS'],\n",
       "       ['RESOLUCIONES CONJUNTAS'],\n",
       "       ['RESOLUCIONES CONJUNTAS'],\n",
       "       ['RESOLUCIONES SINTETIZADAS'],\n",
       "       ['RESOLUCIONES SINTETIZADAS'],\n",
       "       ['RESOLUCIONES SINTETIZADAS'],\n",
       "       ['RESOLUCIONES SINTETIZADAS'],\n",
       "       ['RESOLUCIONES SINTETIZADAS'],\n",
       "       ['DISPOSICIONES'],\n",
       "       ['DISPOSICIONES'],\n",
       "       ['DISPOSICIONES'],\n",
       "       ['CONCURSOS OFICIALES'],\n",
       "       ['CONCURSOS OFICIALES'],\n",
       "       ['CONCURSOS OFICIALES'],\n",
       "       ['AVISOS OFICIALES'],\n",
       "       ['AVISOS OFICIALES'],\n",
       "       ['AVISOS OFICIALES'],\n",
       "       ['CONVENCIONES COLECTIVAS DE TRABAJO'],\n",
       "       ['CONVENCIONES COLECTIVAS DE TRABAJO']], dtype=object)"
      ]
     },
     "execution_count": 6,
     "metadata": {},
     "output_type": "execute_result"
    }
   ],
   "source": [
    "X=x.iloc[:,0:1]\n",
    "X=X.values\n",
    "X\n",
    "#Convertimos el dataFrame de pandas en un ndarray de numpy para el manejo de los valores"
   ]
  },
  {
   "cell_type": "code",
   "execution_count": 7,
   "metadata": {},
   "outputs": [
    {
     "data": {
      "text/plain": [
       "array([['PARTIDOS POLÍTICOS'],\n",
       "       ['MINISTERIO DE TRANSPORTE'],\n",
       "       ['SUPERINTENDENCIA DE SEGUROS DE LA NACIÓN'],\n",
       "       ['SECRETARÍA DE COMERCIO EXTERIOR Y SECRETARÍA DE INDUSTRIA'],\n",
       "       ['ENTE NACIONAL REGULADOR DE LA ELECTRICIDAD'],\n",
       "       ['MINISTERIO DE SEGURIDAD - DIRECCIÓN NACIONAL DE SEGURIDAD EN ESPECTÁCULOS FUTBOLÍSTICOS'],\n",
       "       ['INSTITUTO NACIONAL DE TECNOLOGÍA AGROPECUARIA'],\n",
       "       ['ADMINISTRACIÓN FEDERAL DE INGRESOS PÚBLICOS - ADUANA NEUQUÉN'],\n",
       "       ['ADMINISTRACIÓN FEDERAL DE INGRESOS PÚBLICOS'],\n",
       "       ['FERIAS INTERNACIONALES'],\n",
       "       ['MINISTERIO DEL INTERIOR, OBRAS PÚBLICAS Y VIVIENDA'],\n",
       "       ['AGENCIA NACIONAL DE DISCAPACIDAD'],\n",
       "       ['ENTE NACIONAL REGULADOR DE LA ELECTRICIDAD'],\n",
       "       ['MINISTERIO DE PRODUCCIÓN Y TRABAJO - SUBSECRETARÍA DE PESCA Y ACUICULTURA'],\n",
       "       ['ADMINISTRACIÓN FEDERAL DE INGRESOS PÚBLICOS - ADUANA NEUQUÉN'],\n",
       "       ['ADMINISTRACIÓN FEDERAL DE INGRESOS PÚBLICOS'],\n",
       "       ['COMISIÓN NACIONAL DE EVALUACIÓN Y ACREDITACIÓN UNIVERSITARIA'],\n",
       "       ['SECRETARÍA DE GOBIERNO DE TRABAJO Y EMPLEO'],\n",
       "       ['MINISTERIO DE SEGURIDAD'],\n",
       "       ['ADMINISTRACIÓN NACIONAL DE MEDICAMENTOS, ALIMENTOS Y TECNOLOGÍA MÉDICA'],\n",
       "       ['ADMINISTRACIÓN FEDERAL DE INGRESOS PÚBLICOS - ADUANA NEUQUÉN'],\n",
       "       ['ADMINISTRACIÓN FEDERAL DE INGRESOS PÚBLICOS'],\n",
       "       ['SECRETARÍA DE GOBIERNO DE TURISMO'],\n",
       "       ['COMISIÓN TÉCNICA MIXTA DEL FRENTE MARÍTIMO'],\n",
       "       ['ADMINISTRACIÓN NACIONAL DE MEDICAMENTOS, ALIMENTOS Y TECNOLOGÍA MÉDICA'],\n",
       "       ['ADMINISTRACIÓN FEDERAL DE INGRESOS PÚBLICOS - ADUANA NEUQUÉN'],\n",
       "       ['GENDARMERÍA NACIONAL ARGENTINA'],\n",
       "       ['SUPERINTENDENCIA DE RIESGOS DEL TRABAJO'],\n",
       "       ['COMISIÓN NACIONAL DE TRABAJO AGRARIO'],\n",
       "       ['PREFECTURA NAVAL ARGENTINA - DIRECCIÓN DE PROTECCIÓN AMBIENTAL'],\n",
       "       ['ADMINISTRACIÓN FEDERAL DE INGRESOS PÚBLICOS - DEPARTAMENTO ADUANA DE CAMPANA'],\n",
       "       ['INSTITUTO NACIONAL DE ASOCIATIVISMO Y ECONOMÍA SOCIAL'],\n",
       "       ['ADMINISTRACIÓN FEDERAL DE INGRESOS PÚBLICOS'],\n",
       "       ['ADMINISTRACIÓN FEDERAL DE INGRESOS PÚBLICOS - ADUANA POSADAS'],\n",
       "       ['INSTITUTO NACIONAL DE ASOCIATIVISMO Y ECONOMÍA SOCIAL'],\n",
       "       ['ADMINISTRACIÓN FEDERAL DE INGRESOS PÚBLICOS'],\n",
       "       ['ADMINISTRACIÓN FEDERAL DE INGRESOS PÚBLICOS - ADUANA POSADAS'],\n",
       "       ['INSTITUTO NACIONAL DE ASOCIATIVISMO Y ECONOMÍA SOCIAL'],\n",
       "       ['ADMINISTRACIÓN FEDERAL DE INGRESOS PÚBLICOS - SUBDIRECCIÓN GENERAL DE OPERACIONES IMPOSITIVAS DEL INTERIOR'],\n",
       "       ['ADMINISTRACIÓN FEDERAL DE INGRESOS PÚBLICOS - ADUANA POSADAS'],\n",
       "       ['INSTITUTO NACIONAL DE ASOCIATIVISMO Y ECONOMÍA SOCIAL'],\n",
       "       ['BANCO CENTRAL DE LA REPÚBLICA ARGENTINA'],\n",
       "       ['INSTITUTO NACIONAL DE ASOCIATIVISMO Y ECONOMÍA SOCIAL']],\n",
       "      dtype=object)"
      ]
     },
     "execution_count": 7,
     "metadata": {},
     "output_type": "execute_result"
    }
   ],
   "source": [
    "Y=x.iloc[:,1:]\n",
    "Y=Y.values\n",
    "Y\n",
    "#lo mismo del anterior paso"
   ]
  },
  {
   "cell_type": "code",
   "execution_count": 8,
   "metadata": {},
   "outputs": [
    {
     "name": "stdout",
     "output_type": "stream",
     "text": [
      "[4 4 4 4 4 4 4 4 4 3 3 3 3 3 3 3 6 6 6 6 6 6 7 7 7 7 7 8 8 8 8 8 5 5 5 1 1\n",
      " 1 0 0 0 2 2]\n"
     ]
    },
    {
     "name": "stderr",
     "output_type": "stream",
     "text": [
      "C:\\Users\\Stalker\\Anaconda3\\lib\\site-packages\\sklearn\\preprocessing\\label.py:219: DataConversionWarning: A column-vector y was passed when a 1d array was expected. Please change the shape of y to (n_samples, ), for example using ravel().\n",
      "  y = column_or_1d(y, warn=True)\n",
      "C:\\Users\\Stalker\\Anaconda3\\lib\\site-packages\\sklearn\\preprocessing\\label.py:252: DataConversionWarning: A column-vector y was passed when a 1d array was expected. Please change the shape of y to (n_samples, ), for example using ravel().\n",
      "  y = column_or_1d(y, warn=True)\n"
     ]
    },
    {
     "data": {
      "text/plain": [
       "array([30,  4, 10, 13, 32, 27, 13, 34, 13, 35, 20, 23, 13, 24, 42,  7,  5,\n",
       "       13, 32,  3, 20, 13, 13, 35, 16, 10, 13, 35, 40, 20, 13, 35, 23, 30,\n",
       "       41, 15, 20, 13, 32, 14, 19, 31, 13, 17, 32, 42, 41, 19, 31, 13, 17,\n",
       "       24, 10, 10, 10, 16, 39, 35, 25,  7,  2,  2, 20, 13,  2,  3, 20, 13,\n",
       "       13, 35, 16, 10, 13,  8,  7, 12, 37, 13, 10,  7, 11, 19, 31, 13, 17,\n",
       "       32, 42, 41, 19, 31, 13, 17, 24, 11, 20, 13, 25,  7, 24, 30, 23, 13,\n",
       "       41, 13, 12,  7, 25, 10, 13, 13, 19, 20, 13,  6, 19,  7, 32, 19, 19,\n",
       "       31, 13, 17, 32, 42, 41, 19, 31, 13, 17, 24, 23, 13, 41, 13,  6, 11,\n",
       "       11,  3, 16, 28, 19, 19, 20, 13,  6, 19,  7, 32, 19, 19, 31, 13, 17,\n",
       "       32, 42, 41, 10, 20, 27, 27, 13, 34, 16, 22, 11, 20, 13, 12, 38, 33,\n",
       "       42, 38, 40, 13, 37, 11, 19, 31, 13, 17, 32, 11, 42, 13, 40, 15, 20,\n",
       "       13, 40,  7, 14, 15, 19, 31, 13, 17, 24, 19, 31, 13, 17, 32, 42,  3,\n",
       "       15, 20, 13, 40,  7, 14, 15, 19, 31, 13, 17, 24, 19, 31, 13, 17, 32,\n",
       "       42,  3, 15, 20, 13, 40,  7, 14, 15, 19, 31, 13, 17, 32, 27,  9, 13,\n",
       "       33, 21, 16, 24, 19, 31, 13, 17, 32, 42,  3, 15, 20, 13, 40,  7, 14,\n",
       "       15, 21,  1, 13, 35, 20, 27, 15, 20, 13, 40,  7, 14, 15])"
      ]
     },
     "execution_count": 8,
     "metadata": {},
     "output_type": "execute_result"
    }
   ],
   "source": [
    "labelencoder_X=LabelEncoder()\n",
    "labelencoder_X.fit(X)\n",
    "X=labelencoder_X.transform(X)\n",
    "print(X)\n",
    "yei=[x for x in one_hot(str(Y),len(Y))]\n",
    "yei=np.asarray(yei)\n",
    "yei\n",
    "#x_train,x_test,y_train,y_test=train_test_split(X,yei,test_size=0.25,random_state=0)"
   ]
  },
  {
   "cell_type": "code",
   "execution_count": 18,
   "metadata": {},
   "outputs": [],
   "source": [
    "#con esta funcion vamos a vectorizar los enteros a numpy arrays\n",
    "def vectorizar(sequences,dimension=1000):\n",
    "    results=np.zeros((len(sequences),dimension))\n",
    "    for i,sequence in enumerate(sequences):\n",
    "        results[i,sequence]=1.\n",
    "        return results\n",
    "Yfull=vectorizar(yei)\n",
    "Yfull\n",
    "cx=np.asarray(X).astype('float32')\n",
    "cx=cx.reshape(43,1)"
   ]
  },
  {
   "cell_type": "code",
   "execution_count": 19,
   "metadata": {},
   "outputs": [],
   "source": [
    "equis=vectorizar(X.astype('int'))\n",
    "equis.shape\n",
    "equis2=np.asarray(equis).astype('float32')\n"
   ]
  },
  {
   "cell_type": "code",
   "execution_count": 20,
   "metadata": {},
   "outputs": [
    {
     "name": "stdout",
     "output_type": "stream",
     "text": [
      "[[0. 0. 0. ... 0. 0. 0.]\n",
      " [0. 0. 0. ... 0. 0. 0.]\n",
      " [0. 0. 0. ... 0. 0. 0.]\n",
      " ...\n",
      " [0. 0. 0. ... 0. 0. 0.]\n",
      " [0. 0. 0. ... 0. 0. 0.]\n",
      " [0. 0. 0. ... 0. 0. 0.]]\n"
     ]
    }
   ],
   "source": [
    "print(equis2)"
   ]
  },
  {
   "cell_type": "code",
   "execution_count": 21,
   "metadata": {},
   "outputs": [
    {
     "name": "stderr",
     "output_type": "stream",
     "text": [
      "C:\\Users\\Stalker\\Anaconda3\\lib\\site-packages\\sklearn\\preprocessing\\_encoders.py:368: FutureWarning: The handling of integer data will change in version 0.22. Currently, the categories are determined based on the range [0, max(values)], while in the future they will be determined based on the unique values.\n",
      "If you want the future behaviour and silence this warning, you can specify \"categories='auto'\".\n",
      "In case you used a LabelEncoder before this OneHotEncoder to convert the categories to integers, then you can now use the OneHotEncoder directly.\n",
      "  warnings.warn(msg, FutureWarning)\n",
      "C:\\Users\\Stalker\\Anaconda3\\lib\\site-packages\\sklearn\\preprocessing\\_encoders.py:390: DeprecationWarning: The 'categorical_features' keyword is deprecated in version 0.20 and will be removed in 0.22. You can use the ColumnTransformer instead.\n",
      "  \"use the ColumnTransformer instead.\", DeprecationWarning)\n"
     ]
    }
   ],
   "source": [
    "X\n",
    "onehotencoder=OneHotEncoder(categorical_features=[0])\n",
    "X=onehotencoder.fit_transform(cx).toarray()\n"
   ]
  },
  {
   "cell_type": "code",
   "execution_count": 22,
   "metadata": {},
   "outputs": [
    {
     "data": {
      "text/plain": [
       "(43, 9)"
      ]
     },
     "execution_count": 22,
     "metadata": {},
     "output_type": "execute_result"
    }
   ],
   "source": [
    "X.shape"
   ]
  },
  {
   "cell_type": "code",
   "execution_count": 23,
   "metadata": {},
   "outputs": [
    {
     "name": "stdout",
     "output_type": "stream",
     "text": [
      "(43, 1000) (269, 1000)\n"
     ]
    }
   ],
   "source": [
    "yfull=np.asarray(Yfull).astype('float32')\n",
    "X=np.asarray(X).astype('float32')\n",
    "\n",
    "#y_labels_test=np.asarray(test_labels).astype('float32')\n",
    "\n",
    "#utilizamos col en vez de un valor fijo para input_shape, para que el codigo tenga un poco mas de flexibilidad\n",
    "#X=vectorizar(X)\n",
    "col=X.shape[0]\n",
    "print(equis2.shape,\n",
    "yfull.shape)"
   ]
  },
  {
   "cell_type": "markdown",
   "metadata": {},
   "source": [
    "### a partir de esta celda se encuentra la creacion del modelo con keras (tensorflow backend)"
   ]
  },
  {
   "cell_type": "code",
   "execution_count": 24,
   "metadata": {},
   "outputs": [],
   "source": [
    "#creacion del modelo con keras(tensorflow backend)\n",
    "model=models.Sequential()\n",
    "model.add(layers.Dense(10,activation='relu',input_shape=(1000,)))\n",
    "model.add(layers.Dense(10,activation='relu'))\n",
    "model.add(layers.Dense(1,activation='sigmoid'))\n",
    "#utilizaremos un modelo secuencial para un mejor manejo de secuencias(palabras)"
   ]
  },
  {
   "cell_type": "code",
   "execution_count": 25,
   "metadata": {},
   "outputs": [],
   "source": [
    "model.compile(optimizer='adam',loss='binary_crossentropy',metrics=['accuracy'])\n",
    "#compilamos el modelo con algoritmo de optimizacion adam,de perdida binary_crossentropy (manejo de inputs binarios)"
   ]
  },
  {
   "cell_type": "code",
   "execution_count": 26,
   "metadata": {},
   "outputs": [
    {
     "ename": "ValueError",
     "evalue": "Error when checking target: expected dense_6 to have shape (1,) but got array with shape (1000,)",
     "output_type": "error",
     "traceback": [
      "\u001b[1;31m---------------------------------------------------------------------------\u001b[0m",
      "\u001b[1;31mValueError\u001b[0m                                Traceback (most recent call last)",
      "\u001b[1;32m<ipython-input-26-237efd5a1525>\u001b[0m in \u001b[0;36m<module>\u001b[1;34m\u001b[0m\n\u001b[1;32m----> 1\u001b[1;33m \u001b[0mhistory\u001b[0m\u001b[1;33m=\u001b[0m\u001b[0mmodel\u001b[0m\u001b[1;33m.\u001b[0m\u001b[0mfit\u001b[0m\u001b[1;33m(\u001b[0m\u001b[0mequis2\u001b[0m\u001b[1;33m[\u001b[0m\u001b[1;33m:\u001b[0m\u001b[1;36m13\u001b[0m\u001b[1;33m]\u001b[0m\u001b[1;33m,\u001b[0m\u001b[0myfull\u001b[0m\u001b[1;33m[\u001b[0m\u001b[1;33m:\u001b[0m\u001b[1;36m13\u001b[0m\u001b[1;33m]\u001b[0m\u001b[1;33m,\u001b[0m\u001b[0mepochs\u001b[0m\u001b[1;33m=\u001b[0m\u001b[1;36m22\u001b[0m\u001b[1;33m,\u001b[0m\u001b[0mbatch_size\u001b[0m\u001b[1;33m=\u001b[0m\u001b[1;36m2\u001b[0m\u001b[1;33m,\u001b[0m\u001b[0mvalidation_data\u001b[0m\u001b[1;33m=\u001b[0m\u001b[1;33m(\u001b[0m\u001b[0mequis2\u001b[0m\u001b[1;33m[\u001b[0m\u001b[1;36m13\u001b[0m\u001b[1;33m:\u001b[0m\u001b[1;36m26\u001b[0m\u001b[1;33m]\u001b[0m\u001b[1;33m,\u001b[0m\u001b[0myfull\u001b[0m\u001b[1;33m[\u001b[0m\u001b[1;36m13\u001b[0m\u001b[1;33m:\u001b[0m\u001b[1;36m26\u001b[0m\u001b[1;33m]\u001b[0m\u001b[1;33m)\u001b[0m\u001b[1;33m)\u001b[0m\u001b[1;33m\u001b[0m\u001b[1;33m\u001b[0m\u001b[0m\n\u001b[0m\u001b[0;32m      2\u001b[0m \u001b[1;31m#entrenamiento de nuestro modelo\u001b[0m\u001b[1;33m\u001b[0m\u001b[1;33m\u001b[0m\u001b[1;33m\u001b[0m\u001b[0m\n",
      "\u001b[1;32m~\\Anaconda3\\lib\\site-packages\\keras\\engine\\training.py\u001b[0m in \u001b[0;36mfit\u001b[1;34m(self, x, y, batch_size, epochs, verbose, callbacks, validation_split, validation_data, shuffle, class_weight, sample_weight, initial_epoch, steps_per_epoch, validation_steps, **kwargs)\u001b[0m\n\u001b[0;32m    950\u001b[0m             \u001b[0msample_weight\u001b[0m\u001b[1;33m=\u001b[0m\u001b[0msample_weight\u001b[0m\u001b[1;33m,\u001b[0m\u001b[1;33m\u001b[0m\u001b[1;33m\u001b[0m\u001b[0m\n\u001b[0;32m    951\u001b[0m             \u001b[0mclass_weight\u001b[0m\u001b[1;33m=\u001b[0m\u001b[0mclass_weight\u001b[0m\u001b[1;33m,\u001b[0m\u001b[1;33m\u001b[0m\u001b[1;33m\u001b[0m\u001b[0m\n\u001b[1;32m--> 952\u001b[1;33m             batch_size=batch_size)\n\u001b[0m\u001b[0;32m    953\u001b[0m         \u001b[1;31m# Prepare validation data.\u001b[0m\u001b[1;33m\u001b[0m\u001b[1;33m\u001b[0m\u001b[1;33m\u001b[0m\u001b[0m\n\u001b[0;32m    954\u001b[0m         \u001b[0mdo_validation\u001b[0m \u001b[1;33m=\u001b[0m \u001b[1;32mFalse\u001b[0m\u001b[1;33m\u001b[0m\u001b[1;33m\u001b[0m\u001b[0m\n",
      "\u001b[1;32m~\\Anaconda3\\lib\\site-packages\\keras\\engine\\training.py\u001b[0m in \u001b[0;36m_standardize_user_data\u001b[1;34m(self, x, y, sample_weight, class_weight, check_array_lengths, batch_size)\u001b[0m\n\u001b[0;32m    787\u001b[0m                 \u001b[0mfeed_output_shapes\u001b[0m\u001b[1;33m,\u001b[0m\u001b[1;33m\u001b[0m\u001b[1;33m\u001b[0m\u001b[0m\n\u001b[0;32m    788\u001b[0m                 \u001b[0mcheck_batch_axis\u001b[0m\u001b[1;33m=\u001b[0m\u001b[1;32mFalse\u001b[0m\u001b[1;33m,\u001b[0m  \u001b[1;31m# Don't enforce the batch size.\u001b[0m\u001b[1;33m\u001b[0m\u001b[1;33m\u001b[0m\u001b[0m\n\u001b[1;32m--> 789\u001b[1;33m                 exception_prefix='target')\n\u001b[0m\u001b[0;32m    790\u001b[0m \u001b[1;33m\u001b[0m\u001b[0m\n\u001b[0;32m    791\u001b[0m             \u001b[1;31m# Generate sample-wise weight values given the `sample_weight` and\u001b[0m\u001b[1;33m\u001b[0m\u001b[1;33m\u001b[0m\u001b[1;33m\u001b[0m\u001b[0m\n",
      "\u001b[1;32m~\\Anaconda3\\lib\\site-packages\\keras\\engine\\training_utils.py\u001b[0m in \u001b[0;36mstandardize_input_data\u001b[1;34m(data, names, shapes, check_batch_axis, exception_prefix)\u001b[0m\n\u001b[0;32m    136\u001b[0m                             \u001b[1;34m': expected '\u001b[0m \u001b[1;33m+\u001b[0m \u001b[0mnames\u001b[0m\u001b[1;33m[\u001b[0m\u001b[0mi\u001b[0m\u001b[1;33m]\u001b[0m \u001b[1;33m+\u001b[0m \u001b[1;34m' to have shape '\u001b[0m \u001b[1;33m+\u001b[0m\u001b[1;33m\u001b[0m\u001b[1;33m\u001b[0m\u001b[0m\n\u001b[0;32m    137\u001b[0m                             \u001b[0mstr\u001b[0m\u001b[1;33m(\u001b[0m\u001b[0mshape\u001b[0m\u001b[1;33m)\u001b[0m \u001b[1;33m+\u001b[0m \u001b[1;34m' but got array with shape '\u001b[0m \u001b[1;33m+\u001b[0m\u001b[1;33m\u001b[0m\u001b[1;33m\u001b[0m\u001b[0m\n\u001b[1;32m--> 138\u001b[1;33m                             str(data_shape))\n\u001b[0m\u001b[0;32m    139\u001b[0m     \u001b[1;32mreturn\u001b[0m \u001b[0mdata\u001b[0m\u001b[1;33m\u001b[0m\u001b[1;33m\u001b[0m\u001b[0m\n\u001b[0;32m    140\u001b[0m \u001b[1;33m\u001b[0m\u001b[0m\n",
      "\u001b[1;31mValueError\u001b[0m: Error when checking target: expected dense_6 to have shape (1,) but got array with shape (1000,)"
     ]
    }
   ],
   "source": [
    "history=model.fit(equis2[:13],yfull[:13],epochs=22,batch_size=2,validation_data=(equis2[13:26],yfull[13:26]))\n",
    "#entrenamiento de nuestro modelo"
   ]
  },
  {
   "cell_type": "code",
   "execution_count": 20,
   "metadata": {},
   "outputs": [
    {
     "data": {
      "text/plain": [
       "dict_keys(['val_loss', 'val_acc', 'loss', 'acc'])"
      ]
     },
     "execution_count": 20,
     "metadata": {},
     "output_type": "execute_result"
    }
   ],
   "source": [
    "# se ve horrible ya que tiene muy pocos ejemplos\n",
    "history_dict=history.history\n",
    "history_dict.keys()"
   ]
  },
  {
   "cell_type": "markdown",
   "metadata": {},
   "source": [
    "### utilizaremos las dict keys para generar graficos con matplotlib.pytplot"
   ]
  },
  {
   "cell_type": "code",
   "execution_count": 21,
   "metadata": {},
   "outputs": [
    {
     "data": {
      "image/png": "[encoded data removed]",
      "text/plain": [
       "<Figure size 432x288 with 1 Axes>"
      ]
     },
     "metadata": {
      "needs_background": "light"
     },
     "output_type": "display_data"
    }
   ],
   "source": [
    "acc=history.history['acc']\n",
    "val_acc=history.history['val_acc']\n",
    "loss=history.history['loss']\n",
    "val_loss=history.history['val_loss']\n",
    "epochs=range(1,len(acc)+1)\n",
    "plt.plot(epochs,loss,'bo',label='Training loss')\n",
    "plt.plot(epochs,val_loss,'b',label=\"Validation loss\")\n",
    "plt.title('Training and accuracy')\n",
    "plt.xlabel('Epochs')\n",
    "plt.ylabel('Loss')\n",
    "plt.legend()\n",
    "\n",
    "plt.show()"
   ]
  },
  {
   "cell_type": "code",
   "execution_count": 22,
   "metadata": {},
   "outputs": [
    {
     "data": {
      "image/png": "[encoded data removed]",
      "text/plain": [
       "<Figure size 432x288 with 1 Axes>"
      ]
     },
     "metadata": {
      "needs_background": "light"
     },
     "output_type": "display_data"
    }
   ],
   "source": [
    "plt.clf()#figura limpia\n",
    "acc_values=history_dict['acc']\n",
    "val_acc_values=history_dict['val_acc']\n",
    "\n",
    "\n",
    "\"\"\"bo es por blue dot\"\"\"\n",
    "plt.plot(epochs,acc,'bo',label='Training acc')\n",
    "\"\"\"b es por solid blue line\"\"\"\n",
    "plt.plot(epochs,val_acc,'b',label=\"Validation acc\")\n",
    "plt.title('validation accuracy and validation loss')\n",
    "plt.xlabel('Epochs')\n",
    "plt.ylabel('Accuracy')\n",
    "plt.legend()\n",
    "\n",
    "plt.show()"
   ]
  },
  {
   "cell_type": "code",
   "execution_count": 31,
   "metadata": {},
   "outputs": [],
   "source": [
    "ad=np.random.rand(5,1000)"
   ]
  },
  {
   "cell_type": "code",
   "execution_count": 34,
   "metadata": {},
   "outputs": [
    {
     "data": {
      "text/plain": [
       "(5, 1000)"
      ]
     },
     "execution_count": 34,
     "metadata": {},
     "output_type": "execute_result"
    }
   ],
   "source": [
    "ad.shape"
   ]
  },
  {
   "cell_type": "code",
   "execution_count": 35,
   "metadata": {},
   "outputs": [
    {
     "data": {
      "text/plain": [
       "array([[0.64669902, 0.74312567, 0.67325781, ..., 0.71401831, 0.49518147,\n",
       "        0.29224191],\n",
       "       [0.62506405, 0.45195175, 0.81277892, ..., 0.02268828, 0.48726401,\n",
       "        0.74133387],\n",
       "       [0.98677262, 0.03491767, 0.69487547, ..., 0.97764396, 0.26631458,\n",
       "        0.21160774],\n",
       "       [0.49156315, 0.34859239, 0.73846699, ..., 0.02481662, 0.3242154 ,\n",
       "        0.18787698],\n",
       "       [0.32222504, 0.38498428, 0.10168295, ..., 0.67963568, 0.29298406,\n",
       "        0.5339573 ]])"
      ]
     },
     "execution_count": 35,
     "metadata": {},
     "output_type": "execute_result"
    }
   ],
   "source": [
    "ad"
   ]
  },
  {
   "cell_type": "code",
   "execution_count": null,
   "metadata": {},
   "outputs": [],
   "source": []
  }
 ],
 "metadata": {
  "kernelspec": {
   "display_name": "Python 3",
   "language": "python",
   "name": "python3"
  },
  "language_info": {
   "codemirror_mode": {
    "name": "ipython",
    "version": 3
   },
   "file_extension": ".py",
   "mimetype": "text/x-python",
   "name": "python",
   "nbconvert_exporter": "python",
   "pygments_lexer": "ipython3",
   "version": "3.6.8"
  }
 },
 "nbformat": 4,
 "nbformat_minor": 2
}

{
 "cells": [
  {
   "cell_type": "markdown",
   "metadata": {},
   "source": [
    "# toma de datos desde web\n",
    "# armado de dataframes\n",
    "# pandas,numpy"
   ]
  },
  {
   "cell_type": "code",
   "execution_count": 1,
   "metadata": {},
   "outputs": [],
   "source": [
    "from selenium import webdriver\n",
    "import time"
   ]
  },
  {
   "cell_type": "code",
   "execution_count": 2,
   "metadata": {},
   "outputs": [
    {
     "name": "stdout",
     "output_type": "stream",
     "text": [
      "{'Inmuebles': ['Departamentos(3684)', 'Casas(496)', 'Locales Comerciales. Oficinas y Consultorios(332)', 'Habitaciones en Hoteles, Casas de Familias y Pensiones(207)'], 'Automotores': ['Automóviles Nacionales e Importados(723)', '4x4, Pick-up, Vans, Mini Vans, Utilitarios(100)', 'Taxis, Repuestos y Accesorios(39)', 'Planes de ahorro y Chocados(29)'], 'Empleos': ['Oficios y Ocupaciones Varias(661)', 'Choferes, Personal de Transporte y Abastecimiento, Autos(279)', 'Empleados(114)', 'Personal auxiliar de Casas Particulares. Hoteles, Clínicas(89)'], 'Servicios': ['Cuidado de Personas(466)', 'Astrología y Tarot(150)', 'Mudanzas, Fletes y Logística(57)', 'Construcción y Refacciones(53)'], 'Contactos': ['Agradecimientos(78)', 'Solos y Solas(11)', 'Mensajes y Saludos(3)', 'Sociales(1)'], 'Mix': ['Máquinas y otros materiales para industrias y negocios(33)', 'Mascotas y Animales(19)', 'Hogar y Muebles(16)', 'Sex shops(13)'], 'Legales': ['Convocatorias(69)', 'Edictos Judiciales(39)', 'Avisos al Comercio(35)', 'Licitaciones(32)']}\n"
     ]
    }
   ],
   "source": [
    "driver=webdriver.Chrome(\"chromedriver.exe\")\n",
    "driver.get(\"https://www.clasificados.clarin.com/inicio/index#!/\")\n",
    "\n",
    "titulos2=[]\n",
    "subtitulos2=[]\n",
    "listadesep=[]\n",
    "\n",
    "def functionarie(lista,listasep):\n",
    "    diccionario={}\n",
    "    for i in lista:\n",
    "        diccionario[i]=[]\n",
    "    keys=[]\n",
    "    keys.extend(diccionario.keys())\n",
    "    key=keys[0]\n",
    "    for i in listasep:\n",
    "        if i in keys:\n",
    "            key=i\n",
    "        else:\n",
    "            diccionario[key].append(i)\n",
    "    return diccionario\n",
    "        \n",
    "for i in range(1,8):\n",
    "    titulos=driver.find_element_by_xpath(\"/html/body/section[3]/section/article[2]/div/div/div[{}]/h2/a/span\".format(i))\n",
    "    #print(\"\\n ------------------------\")\n",
    "    #print(titulos.text)\n",
    "    titulos2.append(titulos.text)\n",
    "    #print(\"\\n ------------------------\")\n",
    "    listadesep.append(titulos.text)\n",
    "    for j in range(1,5):\n",
    "        subtitulos=driver.find_element_by_xpath(\"/html/body/section[3]/section/article[2]/div/div/div[{}]/ul/li[{}]\".format(i,j))\n",
    "        #print(subtitulos.text)\n",
    "        subtitulos2.append(subtitulos.text)\n",
    "        listadesep.append(subtitulos.text)\n",
    "\n",
    "\n",
    "#print(titulos2,\"\\n\",subtitulos2,\"\\n\",listadesep)\n",
    "\n",
    "diccionario=functionarie(titulos2,listadesep)\n",
    "print(diccionario)\n",
    "#print(listadesep)\n",
    "\n",
    "time.sleep(2)\n",
    "\n",
    "\n",
    "driver.close()"
   ]
  },
  {
   "cell_type": "code",
   "execution_count": 3,
   "metadata": {},
   "outputs": [
    {
     "data": {
      "text/plain": [
       "['Oficios y Ocupaciones Varias(661)',\n",
       " 'Choferes, Personal de Transporte y Abastecimiento, Autos(279)',\n",
       " 'Empleados(114)',\n",
       " 'Personal auxiliar de Casas Particulares. Hoteles, Clínicas(89)']"
      ]
     },
     "execution_count": 3,
     "metadata": {},
     "output_type": "execute_result"
    }
   ],
   "source": [
    "diccionario['Empleos']"
   ]
  },
  {
   "cell_type": "code",
   "execution_count": 4,
   "metadata": {},
   "outputs": [],
   "source": [
    "import pandas as pd"
   ]
  },
  {
   "cell_type": "code",
   "execution_count": 5,
   "metadata": {},
   "outputs": [],
   "source": [
    "df=pd.DataFrame.from_dict(diccionario,orient=\"index\").reset_index()"
   ]
  },
  {
   "cell_type": "code",
   "execution_count": 6,
   "metadata": {},
   "outputs": [
    {
     "data": {
      "text/html": [
       "<div>\n",
       "<style scoped>\n",
       "    .dataframe tbody tr th:only-of-type {\n",
       "        vertical-align: middle;\n",
       "    }\n",
       "\n",
       "    .dataframe tbody tr th {\n",
       "        vertical-align: top;\n",
       "    }\n",
       "\n",
       "    .dataframe thead th {\n",
       "        text-align: right;\n",
       "    }\n",
       "</style>\n",
       "<table border=\"1\" class=\"dataframe\">\n",
       "  <thead>\n",
       "    <tr style=\"text-align: right;\">\n",
       "      <th></th>\n",
       "      <th>index</th>\n",
       "      <th>0</th>\n",
       "      <th>1</th>\n",
       "      <th>2</th>\n",
       "      <th>3</th>\n",
       "    </tr>\n",
       "  </thead>\n",
       "  <tbody>\n",
       "    <tr>\n",
       "      <th>0</th>\n",
       "      <td>Inmuebles</td>\n",
       "      <td>Departamentos(3684)</td>\n",
       "      <td>Casas(496)</td>\n",
       "      <td>Locales Comerciales. Oficinas y Consultorios(332)</td>\n",
       "      <td>Habitaciones en Hoteles, Casas de Familias y P...</td>\n",
       "    </tr>\n",
       "    <tr>\n",
       "      <th>1</th>\n",
       "      <td>Automotores</td>\n",
       "      <td>Automóviles Nacionales e Importados(723)</td>\n",
       "      <td>4x4, Pick-up, Vans, Mini Vans, Utilitarios(100)</td>\n",
       "      <td>Taxis, Repuestos y Accesorios(39)</td>\n",
       "      <td>Planes de ahorro y Chocados(29)</td>\n",
       "    </tr>\n",
       "    <tr>\n",
       "      <th>2</th>\n",
       "      <td>Empleos</td>\n",
       "      <td>Oficios y Ocupaciones Varias(661)</td>\n",
       "      <td>Choferes, Personal de Transporte y Abastecimie...</td>\n",
       "      <td>Empleados(114)</td>\n",
       "      <td>Personal auxiliar de Casas Particulares. Hotel...</td>\n",
       "    </tr>\n",
       "    <tr>\n",
       "      <th>3</th>\n",
       "      <td>Servicios</td>\n",
       "      <td>Cuidado de Personas(466)</td>\n",
       "      <td>Astrología y Tarot(150)</td>\n",
       "      <td>Mudanzas, Fletes y Logística(57)</td>\n",
       "      <td>Construcción y Refacciones(53)</td>\n",
       "    </tr>\n",
       "    <tr>\n",
       "      <th>4</th>\n",
       "      <td>Contactos</td>\n",
       "      <td>Agradecimientos(78)</td>\n",
       "      <td>Solos y Solas(11)</td>\n",
       "      <td>Mensajes y Saludos(3)</td>\n",
       "      <td>Sociales(1)</td>\n",
       "    </tr>\n",
       "    <tr>\n",
       "      <th>5</th>\n",
       "      <td>Mix</td>\n",
       "      <td>Máquinas y otros materiales para industrias y ...</td>\n",
       "      <td>Mascotas y Animales(19)</td>\n",
       "      <td>Hogar y Muebles(16)</td>\n",
       "      <td>Sex shops(13)</td>\n",
       "    </tr>\n",
       "    <tr>\n",
       "      <th>6</th>\n",
       "      <td>Legales</td>\n",
       "      <td>Convocatorias(69)</td>\n",
       "      <td>Edictos Judiciales(39)</td>\n",
       "      <td>Avisos al Comercio(35)</td>\n",
       "      <td>Licitaciones(32)</td>\n",
       "    </tr>\n",
       "  </tbody>\n",
       "</table>\n",
       "</div>"
      ],
      "text/plain": [
       "         index                                                  0  \\\n",
       "0    Inmuebles                                Departamentos(3684)   \n",
       "1  Automotores           Automóviles Nacionales e Importados(723)   \n",
       "2      Empleos                  Oficios y Ocupaciones Varias(661)   \n",
       "3    Servicios                           Cuidado de Personas(466)   \n",
       "4    Contactos                                Agradecimientos(78)   \n",
       "5          Mix  Máquinas y otros materiales para industrias y ...   \n",
       "6      Legales                                  Convocatorias(69)   \n",
       "\n",
       "                                                   1  \\\n",
       "0                                         Casas(496)   \n",
       "1    4x4, Pick-up, Vans, Mini Vans, Utilitarios(100)   \n",
       "2  Choferes, Personal de Transporte y Abastecimie...   \n",
       "3                            Astrología y Tarot(150)   \n",
       "4                                  Solos y Solas(11)   \n",
       "5                            Mascotas y Animales(19)   \n",
       "6                             Edictos Judiciales(39)   \n",
       "\n",
       "                                                   2  \\\n",
       "0  Locales Comerciales. Oficinas y Consultorios(332)   \n",
       "1                  Taxis, Repuestos y Accesorios(39)   \n",
       "2                                     Empleados(114)   \n",
       "3                   Mudanzas, Fletes y Logística(57)   \n",
       "4                              Mensajes y Saludos(3)   \n",
       "5                                Hogar y Muebles(16)   \n",
       "6                             Avisos al Comercio(35)   \n",
       "\n",
       "                                                   3  \n",
       "0  Habitaciones en Hoteles, Casas de Familias y P...  \n",
       "1                    Planes de ahorro y Chocados(29)  \n",
       "2  Personal auxiliar de Casas Particulares. Hotel...  \n",
       "3                     Construcción y Refacciones(53)  \n",
       "4                                        Sociales(1)  \n",
       "5                                      Sex shops(13)  \n",
       "6                                   Licitaciones(32)  "
      ]
     },
     "execution_count": 6,
     "metadata": {},
     "output_type": "execute_result"
    }
   ],
   "source": [
    "df"
   ]
  },
  {
   "cell_type": "code",
   "execution_count": 7,
   "metadata": {},
   "outputs": [
    {
     "data": {
      "text/plain": [
       "0                                           Casas(496)\n",
       "1      4x4, Pick-up, Vans, Mini Vans, Utilitarios(100)\n",
       "2    Choferes, Personal de Transporte y Abastecimie...\n",
       "Name: 1, dtype: object"
      ]
     },
     "execution_count": 7,
     "metadata": {},
     "output_type": "execute_result"
    }
   ],
   "source": [
    "df.iloc[:3,2]"
   ]
  },
  {
   "cell_type": "code",
   "execution_count": 8,
   "metadata": {},
   "outputs": [],
   "source": [
    "diccionario2={\"titulos\":[],\"subtitulos\":[]}\n"
   ]
  },
  {
   "cell_type": "code",
   "execution_count": 9,
   "metadata": {},
   "outputs": [],
   "source": [
    "for i in df.T:\n",
    "    for j in df.T[i]:\n",
    "        diccionario2[\"titulos\"].append(df.iloc[i,0])\n",
    "        diccionario2[\"subtitulos\"].append(j)\n",
    "\n",
    "datosF=pd.DataFrame(diccionario2)\n"
   ]
  },
  {
   "cell_type": "code",
   "execution_count": 10,
   "metadata": {},
   "outputs": [],
   "source": [
    "X=datosF.iloc[:,0:1]\n",
    "Y=datosF.iloc[:,1:]\n",
    "Y=Y.values"
   ]
  },
  {
   "cell_type": "code",
   "execution_count": 11,
   "metadata": {},
   "outputs": [],
   "source": [
    "from sklearn.preprocessing import LabelEncoder\n",
    "from sklearn.preprocessing import OneHotEncoder\n",
    "from sklearn.feature_extraction.text import CountVectorizer"
   ]
  },
  {
   "cell_type": "code",
   "execution_count": null,
   "metadata": {},
   "outputs": [],
   "source": []
  },
  {
   "cell_type": "code",
   "execution_count": 12,
   "metadata": {},
   "outputs": [
    {
     "name": "stdout",
     "output_type": "stream",
     "text": [
      "[3 3 3 3 3 0 0 0 0 0 2 2 2 2 2 6 6 6 6 6 1 1 1 1 1 5 5 5 5 5 4 4 4 4 4]\n"
     ]
    },
    {
     "name": "stderr",
     "output_type": "stream",
     "text": [
      "C:\\Users\\Stalker\\Anaconda3\\lib\\site-packages\\sklearn\\preprocessing\\label.py:219: DataConversionWarning: A column-vector y was passed when a 1d array was expected. Please change the shape of y to (n_samples, ), for example using ravel().\n",
      "  y = column_or_1d(y, warn=True)\n",
      "C:\\Users\\Stalker\\Anaconda3\\lib\\site-packages\\sklearn\\preprocessing\\label.py:252: DataConversionWarning: A column-vector y was passed when a 1d array was expected. Please change the shape of y to (n_samples, ), for example using ravel().\n",
      "  y = column_or_1d(y, warn=True)\n"
     ]
    }
   ],
   "source": [
    "x=X\n",
    "labelencoder_X=LabelEncoder()\n",
    "labelencoder_X.fit(X)\n",
    "X=labelencoder_X.transform(X)\n",
    "print(X)\n"
   ]
  },
  {
   "cell_type": "code",
   "execution_count": 13,
   "metadata": {},
   "outputs": [
    {
     "name": "stderr",
     "output_type": "stream",
     "text": [
      "C:\\Users\\Stalker\\Anaconda3\\lib\\site-packages\\sklearn\\preprocessing\\_encoders.py:368: FutureWarning: The handling of integer data will change in version 0.22. Currently, the categories are determined based on the range [0, max(values)], while in the future they will be determined based on the unique values.\n",
      "If you want the future behaviour and silence this warning, you can specify \"categories='auto'\".\n",
      "In case you used a LabelEncoder before this OneHotEncoder to convert the categories to integers, then you can now use the OneHotEncoder directly.\n",
      "  warnings.warn(msg, FutureWarning)\n",
      "C:\\Users\\Stalker\\Anaconda3\\lib\\site-packages\\sklearn\\preprocessing\\_encoders.py:390: DeprecationWarning: The 'categorical_features' keyword is deprecated in version 0.20 and will be removed in 0.22. You can use the ColumnTransformer instead.\n",
      "  \"use the ColumnTransformer instead.\", DeprecationWarning)\n"
     ]
    },
    {
     "data": {
      "text/plain": [
       "array([[0., 0., 0., 1., 0., 0., 0.],\n",
       "       [0., 0., 0., 1., 0., 0., 0.],\n",
       "       [0., 0., 0., 1., 0., 0., 0.],\n",
       "       [0., 0., 0., 1., 0., 0., 0.],\n",
       "       [0., 0., 0., 1., 0., 0., 0.],\n",
       "       [1., 0., 0., 0., 0., 0., 0.],\n",
       "       [1., 0., 0., 0., 0., 0., 0.],\n",
       "       [1., 0., 0., 0., 0., 0., 0.],\n",
       "       [1., 0., 0., 0., 0., 0., 0.],\n",
       "       [1., 0., 0., 0., 0., 0., 0.],\n",
       "       [0., 0., 1., 0., 0., 0., 0.],\n",
       "       [0., 0., 1., 0., 0., 0., 0.],\n",
       "       [0., 0., 1., 0., 0., 0., 0.],\n",
       "       [0., 0., 1., 0., 0., 0., 0.],\n",
       "       [0., 0., 1., 0., 0., 0., 0.],\n",
       "       [0., 0., 0., 0., 0., 0., 1.],\n",
       "       [0., 0., 0., 0., 0., 0., 1.],\n",
       "       [0., 0., 0., 0., 0., 0., 1.],\n",
       "       [0., 0., 0., 0., 0., 0., 1.],\n",
       "       [0., 0., 0., 0., 0., 0., 1.],\n",
       "       [0., 1., 0., 0., 0., 0., 0.],\n",
       "       [0., 1., 0., 0., 0., 0., 0.],\n",
       "       [0., 1., 0., 0., 0., 0., 0.],\n",
       "       [0., 1., 0., 0., 0., 0., 0.],\n",
       "       [0., 1., 0., 0., 0., 0., 0.],\n",
       "       [0., 0., 0., 0., 0., 1., 0.],\n",
       "       [0., 0., 0., 0., 0., 1., 0.],\n",
       "       [0., 0., 0., 0., 0., 1., 0.],\n",
       "       [0., 0., 0., 0., 0., 1., 0.],\n",
       "       [0., 0., 0., 0., 0., 1., 0.],\n",
       "       [0., 0., 0., 0., 1., 0., 0.],\n",
       "       [0., 0., 0., 0., 1., 0., 0.],\n",
       "       [0., 0., 0., 0., 1., 0., 0.],\n",
       "       [0., 0., 0., 0., 1., 0., 0.],\n",
       "       [0., 0., 0., 0., 1., 0., 0.]])"
      ]
     },
     "execution_count": 13,
     "metadata": {},
     "output_type": "execute_result"
    }
   ],
   "source": [
    "cx=X.reshape(35,1).astype(\"float32\")\n",
    "onehotencoder=OneHotEncoder(categorical_features=[0])\n",
    "X=onehotencoder.fit_transform(cx).toarray()\n",
    "X"
   ]
  },
  {
   "cell_type": "code",
   "execution_count": 14,
   "metadata": {},
   "outputs": [
    {
     "name": "stderr",
     "output_type": "stream",
     "text": [
      "Using TensorFlow backend.\n"
     ]
    }
   ],
   "source": [
    "from keras.preprocessing.text import one_hot\n",
    "import numpy as np"
   ]
  },
  {
   "cell_type": "code",
   "execution_count": null,
   "metadata": {},
   "outputs": [],
   "source": []
  },
  {
   "cell_type": "code",
   "execution_count": 50,
   "metadata": {},
   "outputs": [],
   "source": [
    "def one_hotear(vector,longitud):\n",
    "    longitud=len(vector)\n",
    "    yei=[]\n",
    "    yei=[x for x in one_hot(str(vector),longitud)]\n",
    "    yei=set(yei)\n",
    "    yei=np.asarray(list(yei)).astype(\"int\")\n",
    "    return yei\n"
   ]
  },
  {
   "cell_type": "code",
   "execution_count": 52,
   "metadata": {},
   "outputs": [
    {
     "data": {
      "text/plain": [
       "array([ 1,  2,  3,  4,  5,  6,  7,  8,  9, 10, 11, 12, 13, 14, 15, 16, 17,\n",
       "       18, 19, 20, 21, 22, 23, 24, 25, 26, 27, 28, 29, 30, 31, 32, 33, 34])"
      ]
     },
     "execution_count": 52,
     "metadata": {},
     "output_type": "execute_result"
    }
   ],
   "source": [
    "yei=one_hotear(Y,len(Y))\n",
    "yei"
   ]
  },
  {
   "cell_type": "code",
   "execution_count": 20,
   "metadata": {},
   "outputs": [
    {
     "name": "stdout",
     "output_type": "stream",
     "text": [
      "35 34\n"
     ]
    }
   ],
   "source": [
    "print(len(X),len(yei_vect))"
   ]
  },
  {
   "cell_type": "code",
   "execution_count": 18,
   "metadata": {},
   "outputs": [],
   "source": [
    "def vectorizar(sequences,dimension=35):\n",
    "    results=np.zeros((len(sequences),dimension))\n",
    "    for i,sequences in enumerate(sequences):\n",
    "        results[i,sequences]=1.\n",
    "    return results"
   ]
  },
  {
   "cell_type": "code",
   "execution_count": 19,
   "metadata": {},
   "outputs": [],
   "source": [
    "yei_vect=vectorizar(yei)"
   ]
  },
  {
   "cell_type": "code",
   "execution_count": 21,
   "metadata": {},
   "outputs": [],
   "source": [
    "from keras import models,layers"
   ]
  },
  {
   "cell_type": "code",
   "execution_count": 22,
   "metadata": {},
   "outputs": [],
   "source": [
    "model=models.Sequential()\n",
    "model.add(layers.Dense(10,activation='relu',input_shape=(35,)))\n",
    "model.add(layers.Dense(10,activation='relu'))\n",
    "model.add(layers.Dense(7,activation='softmax'))"
   ]
  },
  {
   "cell_type": "code",
   "execution_count": 23,
   "metadata": {},
   "outputs": [],
   "source": [
    "model.compile(optimizer='adam',loss='binary_crossentropy',metrics=['accuracy'])"
   ]
  },
  {
   "cell_type": "code",
   "execution_count": 24,
   "metadata": {},
   "outputs": [],
   "source": [
    "Yvei=yei_vect[:15]\n",
    "x_train=X[:15]\n",
    "yei_val=yei_vect[15:29]\n",
    "x_val=X[15:29]"
   ]
  },
  {
   "cell_type": "code",
   "execution_count": 25,
   "metadata": {},
   "outputs": [
    {
     "name": "stdout",
     "output_type": "stream",
     "text": [
      "Train on 15 samples, validate on 15 samples\n",
      "Epoch 1/75\n",
      "15/15 [==============================] - 1s 37ms/step - loss: 0.4042 - acc: 0.8571 - val_loss: 0.4025 - val_acc: 0.8571\n",
      "Epoch 2/75\n",
      "15/15 [==============================] - 0s 1ms/step - loss: 0.4015 - acc: 0.8571 - val_loss: 0.4000 - val_acc: 0.8571\n",
      "Epoch 3/75\n",
      "15/15 [==============================] - 0s 2ms/step - loss: 0.3992 - acc: 0.8571 - val_loss: 0.3978 - val_acc: 0.8571\n",
      "Epoch 4/75\n",
      "15/15 [==============================] - 0s 1ms/step - loss: 0.3969 - acc: 0.8571 - val_loss: 0.3956 - val_acc: 0.8571\n",
      "Epoch 5/75\n",
      "15/15 [==============================] - 0s 2ms/step - loss: 0.3948 - acc: 0.8571 - val_loss: 0.3933 - val_acc: 0.8571\n",
      "Epoch 6/75\n",
      "15/15 [==============================] - 0s 2ms/step - loss: 0.3926 - acc: 0.8571 - val_loss: 0.3911 - val_acc: 0.8571\n",
      "Epoch 7/75\n",
      "15/15 [==============================] - 0s 2ms/step - loss: 0.3903 - acc: 0.8571 - val_loss: 0.3889 - val_acc: 0.8571\n",
      "Epoch 8/75\n",
      "15/15 [==============================] - 0s 2ms/step - loss: 0.3881 - acc: 0.8571 - val_loss: 0.3866 - val_acc: 0.8571\n",
      "Epoch 9/75\n",
      "15/15 [==============================] - 0s 2ms/step - loss: 0.3857 - acc: 0.8571 - val_loss: 0.3842 - val_acc: 0.8571\n",
      "Epoch 10/75\n",
      "15/15 [==============================] - 0s 2ms/step - loss: 0.3834 - acc: 0.8571 - val_loss: 0.3819 - val_acc: 0.8571\n",
      "Epoch 11/75\n",
      "15/15 [==============================] - 0s 1ms/step - loss: 0.3810 - acc: 0.8571 - val_loss: 0.3795 - val_acc: 0.8571\n",
      "Epoch 12/75\n",
      "15/15 [==============================] - 0s 2ms/step - loss: 0.3785 - acc: 0.8571 - val_loss: 0.3770 - val_acc: 0.8571\n",
      "Epoch 13/75\n",
      "15/15 [==============================] - 0s 2ms/step - loss: 0.3761 - acc: 0.8571 - val_loss: 0.3745 - val_acc: 0.8571\n",
      "Epoch 14/75\n",
      "15/15 [==============================] - 0s 2ms/step - loss: 0.3735 - acc: 0.8571 - val_loss: 0.3719 - val_acc: 0.8571\n",
      "Epoch 15/75\n",
      "15/15 [==============================] - 0s 2ms/step - loss: 0.3710 - acc: 0.8571 - val_loss: 0.3692 - val_acc: 0.8571\n",
      "Epoch 16/75\n",
      "15/15 [==============================] - 0s 1ms/step - loss: 0.3682 - acc: 0.8571 - val_loss: 0.3665 - val_acc: 0.8571\n",
      "Epoch 17/75\n",
      "15/15 [==============================] - 0s 1ms/step - loss: 0.3655 - acc: 0.8571 - val_loss: 0.3637 - val_acc: 0.8571\n",
      "Epoch 18/75\n",
      "15/15 [==============================] - 0s 1ms/step - loss: 0.3627 - acc: 0.8571 - val_loss: 0.3609 - val_acc: 0.8571\n",
      "Epoch 19/75\n",
      "15/15 [==============================] - 0s 2ms/step - loss: 0.3598 - acc: 0.8571 - val_loss: 0.3580 - val_acc: 0.8571\n",
      "Epoch 20/75\n",
      "15/15 [==============================] - 0s 1ms/step - loss: 0.3569 - acc: 0.8571 - val_loss: 0.3549 - val_acc: 0.8571\n",
      "Epoch 21/75\n",
      "15/15 [==============================] - 0s 867us/step - loss: 0.3537 - acc: 0.8571 - val_loss: 0.3519 - val_acc: 0.8571\n",
      "Epoch 22/75\n",
      "15/15 [==============================] - 0s 1ms/step - loss: 0.3508 - acc: 0.8571 - val_loss: 0.3487 - val_acc: 0.8571\n",
      "Epoch 23/75\n",
      "15/15 [==============================] - 0s 1ms/step - loss: 0.3475 - acc: 0.8571 - val_loss: 0.3454 - val_acc: 0.8571\n",
      "Epoch 24/75\n",
      "15/15 [==============================] - 0s 933us/step - loss: 0.3442 - acc: 0.8571 - val_loss: 0.3420 - val_acc: 0.8571\n",
      "Epoch 25/75\n",
      "15/15 [==============================] - 0s 2ms/step - loss: 0.3407 - acc: 0.8571 - val_loss: 0.3386 - val_acc: 0.8571\n",
      "Epoch 26/75\n",
      "15/15 [==============================] - 0s 1ms/step - loss: 0.3373 - acc: 0.8571 - val_loss: 0.3351 - val_acc: 0.8571\n",
      "Epoch 27/75\n",
      "15/15 [==============================] - 0s 1ms/step - loss: 0.3337 - acc: 0.8571 - val_loss: 0.3315 - val_acc: 0.8571\n",
      "Epoch 28/75\n",
      "15/15 [==============================] - 0s 1ms/step - loss: 0.3302 - acc: 0.8571 - val_loss: 0.3278 - val_acc: 0.8571\n",
      "Epoch 29/75\n",
      "15/15 [==============================] - 0s 1ms/step - loss: 0.3265 - acc: 0.8571 - val_loss: 0.3241 - val_acc: 0.8571\n",
      "Epoch 30/75\n",
      "15/15 [==============================] - 0s 2ms/step - loss: 0.3226 - acc: 0.8571 - val_loss: 0.3202 - val_acc: 0.8571\n",
      "Epoch 31/75\n",
      "15/15 [==============================] - 0s 1ms/step - loss: 0.3188 - acc: 0.8571 - val_loss: 0.3162 - val_acc: 0.8571\n",
      "Epoch 32/75\n",
      "15/15 [==============================] - 0s 2ms/step - loss: 0.3149 - acc: 0.8571 - val_loss: 0.3120 - val_acc: 0.8571\n",
      "Epoch 33/75\n",
      "15/15 [==============================] - 0s 1ms/step - loss: 0.3107 - acc: 0.8571 - val_loss: 0.3079 - val_acc: 0.8571\n",
      "Epoch 34/75\n",
      "15/15 [==============================] - 0s 2ms/step - loss: 0.3064 - acc: 0.8571 - val_loss: 0.3039 - val_acc: 0.8571\n",
      "Epoch 35/75\n",
      "15/15 [==============================] - 0s 1ms/step - loss: 0.3024 - acc: 0.8571 - val_loss: 0.2998 - val_acc: 0.8571\n",
      "Epoch 36/75\n",
      "15/15 [==============================] - 0s 1ms/step - loss: 0.2983 - acc: 0.8571 - val_loss: 0.2958 - val_acc: 0.8571\n",
      "Epoch 37/75\n",
      "15/15 [==============================] - 0s 933us/step - loss: 0.2942 - acc: 0.8571 - val_loss: 0.2919 - val_acc: 0.8571\n",
      "Epoch 38/75\n",
      "15/15 [==============================] - 0s 1ms/step - loss: 0.2904 - acc: 0.8571 - val_loss: 0.2878 - val_acc: 0.8571\n",
      "Epoch 39/75\n",
      "15/15 [==============================] - 0s 1ms/step - loss: 0.2865 - acc: 0.8571 - val_loss: 0.2838 - val_acc: 0.8571\n",
      "Epoch 40/75\n",
      "15/15 [==============================] - 0s 933us/step - loss: 0.2824 - acc: 0.8571 - val_loss: 0.2798 - val_acc: 0.8571\n",
      "Epoch 41/75\n",
      "15/15 [==============================] - 0s 1ms/step - loss: 0.2784 - acc: 0.8571 - val_loss: 0.2760 - val_acc: 0.8571\n",
      "Epoch 42/75\n",
      "15/15 [==============================] - 0s 1ms/step - loss: 0.2747 - acc: 0.8571 - val_loss: 0.2721 - val_acc: 0.8571\n",
      "Epoch 43/75\n",
      "15/15 [==============================] - 0s 1ms/step - loss: 0.2709 - acc: 0.8571 - val_loss: 0.2682 - val_acc: 0.8571\n",
      "Epoch 44/75\n",
      "15/15 [==============================] - 0s 867us/step - loss: 0.2668 - acc: 0.8571 - val_loss: 0.2643 - val_acc: 0.8571\n",
      "Epoch 45/75\n",
      "15/15 [==============================] - 0s 2ms/step - loss: 0.2631 - acc: 0.8571 - val_loss: 0.2603 - val_acc: 0.8571\n",
      "Epoch 46/75\n",
      "15/15 [==============================] - 0s 1ms/step - loss: 0.2590 - acc: 0.8571 - val_loss: 0.2564 - val_acc: 0.8571\n",
      "Epoch 47/75\n",
      "15/15 [==============================] - 0s 933us/step - loss: 0.2551 - acc: 0.8571 - val_loss: 0.2526 - val_acc: 0.8571\n",
      "Epoch 48/75\n",
      "15/15 [==============================] - 0s 867us/step - loss: 0.2513 - acc: 0.8571 - val_loss: 0.2487 - val_acc: 0.8571\n",
      "Epoch 49/75\n",
      "15/15 [==============================] - 0s 867us/step - loss: 0.2473 - acc: 0.8571 - val_loss: 0.2447 - val_acc: 0.8571\n",
      "Epoch 50/75\n",
      "15/15 [==============================] - 0s 1ms/step - loss: 0.2434 - acc: 0.8571 - val_loss: 0.2407 - val_acc: 0.8571\n",
      "Epoch 51/75\n",
      "15/15 [==============================] - 0s 2ms/step - loss: 0.2393 - acc: 0.8571 - val_loss: 0.2368 - val_acc: 0.8571\n",
      "Epoch 52/75\n",
      "15/15 [==============================] - 0s 1ms/step - loss: 0.2356 - acc: 0.8571 - val_loss: 0.2328 - val_acc: 0.8571\n",
      "Epoch 53/75\n",
      "15/15 [==============================] - 0s 1ms/step - loss: 0.2317 - acc: 0.8571 - val_loss: 0.2291 - val_acc: 0.8667\n",
      "Epoch 54/75\n",
      "15/15 [==============================] - 0s 1ms/step - loss: 0.2280 - acc: 0.8667 - val_loss: 0.2251 - val_acc: 0.8762\n",
      "Epoch 55/75\n",
      "15/15 [==============================] - 0s 2ms/step - loss: 0.2239 - acc: 0.8857 - val_loss: 0.2213 - val_acc: 0.8952\n",
      "Epoch 56/75\n",
      "15/15 [==============================] - 0s 1ms/step - loss: 0.2206 - acc: 0.8952 - val_loss: 0.2176 - val_acc: 0.8952\n",
      "Epoch 57/75\n",
      "15/15 [==============================] - 0s 1ms/step - loss: 0.2163 - acc: 0.8952 - val_loss: 0.2139 - val_acc: 0.8952\n",
      "Epoch 58/75\n",
      "15/15 [==============================] - 0s 1ms/step - loss: 0.2126 - acc: 0.8952 - val_loss: 0.2100 - val_acc: 0.8952\n",
      "Epoch 59/75\n",
      "15/15 [==============================] - 0s 2ms/step - loss: 0.2088 - acc: 0.8952 - val_loss: 0.2063 - val_acc: 0.9048\n",
      "Epoch 60/75\n",
      "15/15 [==============================] - 0s 1ms/step - loss: 0.2057 - acc: 0.9048 - val_loss: 0.2025 - val_acc: 0.9143\n",
      "Epoch 61/75\n",
      "15/15 [==============================] - 0s 3ms/step - loss: 0.2013 - acc: 0.9143 - val_loss: 0.1988 - val_acc: 0.9143\n",
      "Epoch 62/75\n",
      "15/15 [==============================] - 0s 2ms/step - loss: 0.1978 - acc: 0.9143 - val_loss: 0.1951 - val_acc: 0.9333\n",
      "Epoch 63/75\n"
     ]
    },
    {
     "name": "stdout",
     "output_type": "stream",
     "text": [
      "15/15 [==============================] - 0s 2ms/step - loss: 0.1938 - acc: 0.9333 - val_loss: 0.1915 - val_acc: 0.9333\n",
      "Epoch 64/75\n",
      "15/15 [==============================] - 0s 1ms/step - loss: 0.1903 - acc: 0.9333 - val_loss: 0.1876 - val_acc: 0.9333\n",
      "Epoch 65/75\n",
      "15/15 [==============================] - 0s 1ms/step - loss: 0.1864 - acc: 0.9333 - val_loss: 0.1839 - val_acc: 0.9333\n",
      "Epoch 66/75\n",
      "15/15 [==============================] - 0s 1ms/step - loss: 0.1829 - acc: 0.9333 - val_loss: 0.1800 - val_acc: 0.9429\n",
      "Epoch 67/75\n",
      "15/15 [==============================] - 0s 2ms/step - loss: 0.1787 - acc: 0.9429 - val_loss: 0.1762 - val_acc: 0.9429\n",
      "Epoch 68/75\n",
      "15/15 [==============================] - 0s 1ms/step - loss: 0.1749 - acc: 0.9429 - val_loss: 0.1724 - val_acc: 0.9429\n",
      "Epoch 69/75\n",
      "15/15 [==============================] - 0s 2ms/step - loss: 0.1712 - acc: 0.9429 - val_loss: 0.1686 - val_acc: 0.9524\n",
      "Epoch 70/75\n",
      "15/15 [==============================] - 0s 2ms/step - loss: 0.1676 - acc: 0.9524 - val_loss: 0.1649 - val_acc: 0.9524\n",
      "Epoch 71/75\n",
      "15/15 [==============================] - 0s 2ms/step - loss: 0.1636 - acc: 0.9524 - val_loss: 0.1612 - val_acc: 0.9524\n",
      "Epoch 72/75\n",
      "15/15 [==============================] - 0s 2ms/step - loss: 0.1600 - acc: 0.9524 - val_loss: 0.1575 - val_acc: 0.9524\n",
      "Epoch 73/75\n",
      "15/15 [==============================] - 0s 1ms/step - loss: 0.1563 - acc: 0.9524 - val_loss: 0.1537 - val_acc: 0.9524\n",
      "Epoch 74/75\n",
      "15/15 [==============================] - 0s 1ms/step - loss: 0.1524 - acc: 0.9524 - val_loss: 0.1497 - val_acc: 0.9524\n",
      "Epoch 75/75\n",
      "15/15 [==============================] - 0s 2ms/step - loss: 0.1485 - acc: 0.9524 - val_loss: 0.1458 - val_acc: 0.9524\n"
     ]
    }
   ],
   "source": [
    "history=model.fit(Yvei,x_train,epochs=75,batch_size=3,validation_data=(Yvei,x_train))"
   ]
  },
  {
   "cell_type": "code",
   "execution_count": 37,
   "metadata": {},
   "outputs": [
    {
     "data": {
      "text/plain": [
       "array([3], dtype=int64)"
      ]
     },
     "execution_count": 37,
     "metadata": {},
     "output_type": "execute_result"
    }
   ],
   "source": [
    "model.predict_classes(yei_vect[33].reshape(35,-1).T)"
   ]
  },
  {
   "cell_type": "code",
   "execution_count": 30,
   "metadata": {},
   "outputs": [],
   "source": [
    "import matplotlib.pyplot as plt"
   ]
  },
  {
   "cell_type": "code",
   "execution_count": 31,
   "metadata": {},
   "outputs": [
    {
     "data": {
      "image/png": "[encoded data removed]",
      "text/plain": [
       "<Figure size 432x288 with 1 Axes>"
      ]
     },
     "metadata": {
      "needs_background": "light"
     },
     "output_type": "display_data"
    }
   ],
   "source": [
    "acc=history.history['acc']\n",
    "val_acc=history.history['val_acc']\n",
    "loss=history.history['loss']\n",
    "val_loss=history.history['val_loss']\n",
    "epochs=range(1,len(acc)+1)\n",
    "plt.plot(epochs,loss,'go',label='Training loss')\n",
    "plt.plot(epochs,val_loss,'b',label=\"Validation loss\")\n",
    "plt.title('Training and accuracy')\n",
    "plt.xlabel('Epochs')\n",
    "plt.ylabel('Loss')\n",
    "plt.legend()\n",
    "\n",
    "plt.show()"
   ]
  },
  {
   "cell_type": "code",
   "execution_count": 38,
   "metadata": {},
   "outputs": [],
   "source": [
    "toastdata=pd.read_csv(\"test_clarin.csv\")"
   ]
  },
  {
   "cell_type": "code",
   "execution_count": 39,
   "metadata": {},
   "outputs": [
    {
     "data": {
      "text/html": [
       "<div>\n",
       "<style scoped>\n",
       "    .dataframe tbody tr th:only-of-type {\n",
       "        vertical-align: middle;\n",
       "    }\n",
       "\n",
       "    .dataframe tbody tr th {\n",
       "        vertical-align: top;\n",
       "    }\n",
       "\n",
       "    .dataframe thead th {\n",
       "        text-align: right;\n",
       "    }\n",
       "</style>\n",
       "<table border=\"1\" class=\"dataframe\">\n",
       "  <thead>\n",
       "    <tr style=\"text-align: right;\">\n",
       "      <th></th>\n",
       "      <th>titulos</th>\n",
       "      <th>subtitulos</th>\n",
       "    </tr>\n",
       "  </thead>\n",
       "  <tbody>\n",
       "    <tr>\n",
       "      <th>0</th>\n",
       "      <td>Inmuebles</td>\n",
       "      <td>Automotores</td>\n",
       "    </tr>\n",
       "    <tr>\n",
       "      <th>1</th>\n",
       "      <td>Inmuebles</td>\n",
       "      <td>Repuestos y Accesorios para Autos. Sistemas de...</td>\n",
       "    </tr>\n",
       "    <tr>\n",
       "      <th>2</th>\n",
       "      <td>Inmuebles</td>\n",
       "      <td>Transporte de Carga, Camiones, Acoplados, Cole...</td>\n",
       "    </tr>\n",
       "    <tr>\n",
       "      <th>3</th>\n",
       "      <td>Inmuebles</td>\n",
       "      <td>Autos de Colección(2)</td>\n",
       "    </tr>\n",
       "    <tr>\n",
       "      <th>4</th>\n",
       "      <td>Inmuebles</td>\n",
       "      <td>Náutica, Aviación, Casas Rodantes, Motorhomes....</td>\n",
       "    </tr>\n",
       "    <tr>\n",
       "      <th>5</th>\n",
       "      <td>Automotores</td>\n",
       "      <td>Empleos</td>\n",
       "    </tr>\n",
       "    <tr>\n",
       "      <th>6</th>\n",
       "      <td>Automotores</td>\n",
       "      <td>Empleados, Vendedores, Ejecutivos de Cuentas, ...</td>\n",
       "    </tr>\n",
       "    <tr>\n",
       "      <th>7</th>\n",
       "      <td>Automotores</td>\n",
       "      <td>Profesionales y Ejecutivos(72)</td>\n",
       "    </tr>\n",
       "    <tr>\n",
       "      <th>8</th>\n",
       "      <td>Automotores</td>\n",
       "      <td>Enseñanza, Capacitación, Cursos y Docentes(27)</td>\n",
       "    </tr>\n",
       "    <tr>\n",
       "      <th>9</th>\n",
       "      <td>Automotores</td>\n",
       "      <td>Electrónicos. Comunicaciones, Mecánicos, Quími...</td>\n",
       "    </tr>\n",
       "    <tr>\n",
       "      <th>10</th>\n",
       "      <td>Empleos</td>\n",
       "      <td>Servicios</td>\n",
       "    </tr>\n",
       "    <tr>\n",
       "      <th>11</th>\n",
       "      <td>Empleos</td>\n",
       "      <td>Servicios Automotores y Choferes(39)</td>\n",
       "    </tr>\n",
       "    <tr>\n",
       "      <th>12</th>\n",
       "      <td>Empleos</td>\n",
       "      <td>Negocios y Socios(34)</td>\n",
       "    </tr>\n",
       "    <tr>\n",
       "      <th>13</th>\n",
       "      <td>Empleos</td>\n",
       "      <td>Salud(20)</td>\n",
       "    </tr>\n",
       "    <tr>\n",
       "      <th>14</th>\n",
       "      <td>Empleos</td>\n",
       "      <td>Legales(17)</td>\n",
       "    </tr>\n",
       "    <tr>\n",
       "      <th>15</th>\n",
       "      <td>Servicios</td>\n",
       "      <td>Mix</td>\n",
       "    </tr>\n",
       "    <tr>\n",
       "      <th>16</th>\n",
       "      <td>Servicios</td>\n",
       "      <td>Sex shops(12)</td>\n",
       "    </tr>\n",
       "    <tr>\n",
       "      <th>17</th>\n",
       "      <td>Servicios</td>\n",
       "      <td>Ofertas, Trueques y Permutas(9)</td>\n",
       "    </tr>\n",
       "    <tr>\n",
       "      <th>18</th>\n",
       "      <td>Servicios</td>\n",
       "      <td>Indumentaria y Accesorios(6)</td>\n",
       "    </tr>\n",
       "    <tr>\n",
       "      <th>19</th>\n",
       "      <td>Servicios</td>\n",
       "      <td>Máquinas de coser, overlock y de tejer(5)</td>\n",
       "    </tr>\n",
       "  </tbody>\n",
       "</table>\n",
       "</div>"
      ],
      "text/plain": [
       "        titulos                                         subtitulos\n",
       "0     Inmuebles                                        Automotores\n",
       "1     Inmuebles  Repuestos y Accesorios para Autos. Sistemas de...\n",
       "2     Inmuebles  Transporte de Carga, Camiones, Acoplados, Cole...\n",
       "3     Inmuebles                              Autos de Colección(2)\n",
       "4     Inmuebles  Náutica, Aviación, Casas Rodantes, Motorhomes....\n",
       "5   Automotores                                            Empleos\n",
       "6   Automotores  Empleados, Vendedores, Ejecutivos de Cuentas, ...\n",
       "7   Automotores                     Profesionales y Ejecutivos(72)\n",
       "8   Automotores     Enseñanza, Capacitación, Cursos y Docentes(27)\n",
       "9   Automotores  Electrónicos. Comunicaciones, Mecánicos, Quími...\n",
       "10      Empleos                                          Servicios\n",
       "11      Empleos               Servicios Automotores y Choferes(39)\n",
       "12      Empleos                              Negocios y Socios(34)\n",
       "13      Empleos                                          Salud(20)\n",
       "14      Empleos                                        Legales(17)\n",
       "15    Servicios                                                Mix\n",
       "16    Servicios                                      Sex shops(12)\n",
       "17    Servicios                    Ofertas, Trueques y Permutas(9)\n",
       "18    Servicios                       Indumentaria y Accesorios(6)\n",
       "19    Servicios          Máquinas de coser, overlock y de tejer(5)"
      ]
     },
     "execution_count": 39,
     "metadata": {},
     "output_type": "execute_result"
    }
   ],
   "source": [
    "diccionario3={\"titulos\":[],\"subtitulos\":[]}\n",
    "for i in toastdata.T:\n",
    "    for j in toastdata.T[i]:\n",
    "        diccionario3[\"titulos\"].append(df.iloc[i,0])\n",
    "        diccionario3[\"subtitulos\"].append(j)\n",
    "\n",
    "datosT=pd.DataFrame(diccionario3)\n",
    "datosT"
   ]
  },
  {
   "cell_type": "code",
   "execution_count": 89,
   "metadata": {},
   "outputs": [],
   "source": [
    "ytest=datosT.iloc[:,1:]"
   ]
  },
  {
   "cell_type": "code",
   "execution_count": 90,
   "metadata": {},
   "outputs": [],
   "source": [
    "ytest=ytest.values"
   ]
  },
  {
   "cell_type": "code",
   "execution_count": 91,
   "metadata": {},
   "outputs": [
    {
     "data": {
      "text/plain": [
       "(20, 1)"
      ]
     },
     "execution_count": 91,
     "metadata": {},
     "output_type": "execute_result"
    }
   ],
   "source": [
    "ytest.shape"
   ]
  },
  {
   "cell_type": "code",
   "execution_count": null,
   "metadata": {},
   "outputs": [],
   "source": []
  },
  {
   "cell_type": "code",
   "execution_count": 92,
   "metadata": {},
   "outputs": [],
   "source": [
    "ytest=one_hotear(ytest,len(ytest))"
   ]
  },
  {
   "cell_type": "code",
   "execution_count": 93,
   "metadata": {},
   "outputs": [],
   "source": [
    "ytest=ytest+34"
   ]
  },
  {
   "cell_type": "code",
   "execution_count": 94,
   "metadata": {},
   "outputs": [
    {
     "data": {
      "text/plain": [
       "array([36, 37, 38, 39, 40, 41, 42, 43, 44, 45, 46, 47, 48, 49, 50, 51, 52,\n",
       "       53])"
      ]
     },
     "execution_count": 94,
     "metadata": {},
     "output_type": "execute_result"
    }
   ],
   "source": [
    "ytest"
   ]
  },
  {
   "cell_type": "code",
   "execution_count": 99,
   "metadata": {},
   "outputs": [],
   "source": [
    "ytest=vectorizar(ytest,len(ytest)+36)"
   ]
  },
  {
   "cell_type": "code",
   "execution_count": 100,
   "metadata": {},
   "outputs": [
    {
     "data": {
      "text/plain": [
       "(18, 54)"
      ]
     },
     "execution_count": 100,
     "metadata": {},
     "output_type": "execute_result"
    }
   ],
   "source": [
    "ytest.shape"
   ]
  },
  {
   "cell_type": "code",
   "execution_count": null,
   "metadata": {},
   "outputs": [],
   "source": []
  },
  {
   "cell_type": "code",
   "execution_count": 105,
   "metadata": {},
   "outputs": [],
   "source": [
    "#model.predict_classes(ytest[1].reshape(54,-1).T)"
   ]
  },
  {
   "cell_type": "code",
   "execution_count": null,
   "metadata": {},
   "outputs": [],
   "source": []
  }
 ],
 "metadata": {
  "kernelspec": {
   "display_name": "Python 3",
   "language": "python",
   "name": "python3"
  },
  "language_info": {
   "codemirror_mode": {
    "name": "ipython",
    "version": 3
   },
   "file_extension": ".py",
   "mimetype": "text/x-python",
   "name": "python",
   "nbconvert_exporter": "python",
   "pygments_lexer": "ipython3",
   "version": "3.6.8"
  }
 },
 "nbformat": 4,
 "nbformat_minor": 2
}

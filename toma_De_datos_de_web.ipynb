{
 "cells": [
  {
   "cell_type": "markdown",
   "metadata": {},
   "source": [
    "# toma de datos desde web\n",
    "# armado de dataframes\n",
    "# pandas,numpy"
   ]
  },
  {
   "cell_type": "code",
   "execution_count": 1,
   "metadata": {},
   "outputs": [],
   "source": [
    "from selenium import webdriver\n",
    "import time"
   ]
  },
  {
   "cell_type": "code",
   "execution_count": 2,
   "metadata": {},
   "outputs": [
    {
     "name": "stdout",
     "output_type": "stream",
     "text": [
      "{'Inmuebles': ['Departamentos(3127)', 'Casas(435)', 'Locales Comerciales. Oficinas y Consultorios(325)', 'Habitaciones en Hoteles, Casas de Familias y Pensiones(207)'], 'Automotores': ['Automóviles Nacionales e Importados(633)', '4x4, Pick-up, Vans, Mini Vans, Utilitarios(84)', 'Taxis, Repuestos y Accesorios(37)', 'Planes de ahorro y Chocados(30)'], 'Empleos': ['Oficios y Ocupaciones Varias(659)', 'Choferes, Personal de Transporte y Abastecimiento, Autos(291)', 'Empleados(111)', 'Personal auxiliar de Casas Particulares. Hoteles, Clínicas(92)'], 'Servicios': ['Cuidado de Personas(469)', 'Astrología y Tarot(144)', 'Construcción y Refacciones(55)', 'Mudanzas, Fletes y Logística(55)'], 'Contactos': ['Agradecimientos(79)', 'Solos y Solas(11)', 'Mensajes y Saludos(2)', 'Sociales(1)'], 'Mix': ['Máquinas y otros materiales para industrias y negocios(36)', 'Mascotas y Animales(18)', 'Hogar y Muebles(15)', 'Boliches y Otros(12)'], 'Legales': ['Convocatorias(63)', 'Edictos Judiciales(38)', 'Avisos al Comercio(37)', 'Licitaciones(25)']}\n"
     ]
    }
   ],
   "source": [
    "driver=webdriver.Chrome(\"chromedriver.exe\")\n",
    "driver.get(\"https://www.clasificados.clarin.com/inicio/index#!/\")\n",
    "\n",
    "titulos2=[]\n",
    "subtitulos2=[]\n",
    "listadesep=[]\n",
    "\n",
    "def functionarie(lista,listasep):\n",
    "    diccionario={}\n",
    "    for i in lista:\n",
    "        diccionario[i]=[]\n",
    "    keys=[]\n",
    "    keys.extend(diccionario.keys())\n",
    "    key=keys[0]\n",
    "    for i in listasep:\n",
    "        if i in keys:\n",
    "            key=i\n",
    "        else:\n",
    "            diccionario[key].append(i)\n",
    "    return diccionario\n",
    "        \n",
    "for i in range(1,8):\n",
    "    titulos=driver.find_element_by_xpath(\"/html/body/section[3]/section/article[2]/div/div/div[{}]/h2/a/span\".format(i))\n",
    "    #print(\"\\n ------------------------\")\n",
    "    #print(titulos.text)\n",
    "    titulos2.append(titulos.text)\n",
    "    #print(\"\\n ------------------------\")\n",
    "    listadesep.append(titulos.text)\n",
    "    for j in range(1,5):\n",
    "        subtitulos=driver.find_element_by_xpath(\"/html/body/section[3]/section/article[2]/div/div/div[{}]/ul/li[{}]\".format(i,j))\n",
    "        #print(subtitulos.text)\n",
    "        subtitulos2.append(subtitulos.text)\n",
    "        listadesep.append(subtitulos.text)\n",
    "\n",
    "\n",
    "#print(titulos2,\"\\n\",subtitulos2,\"\\n\",listadesep)\n",
    "\n",
    "diccionario=functionarie(titulos2,listadesep)\n",
    "print(diccionario)\n",
    "#print(listadesep)\n",
    "\n",
    "time.sleep(2)\n",
    "\n",
    "\n",
    "driver.close()"
   ]
  },
  {
   "cell_type": "code",
   "execution_count": 42,
   "metadata": {},
   "outputs": [
    {
     "data": {
      "text/plain": [
       "['Oficios y Ocupaciones Varias(659)',\n",
       " 'Choferes, Personal de Transporte y Abastecimiento, Autos(291)',\n",
       " 'Empleados(111)',\n",
       " 'Personal auxiliar de Casas Particulares. Hoteles, Clínicas(92)']"
      ]
     },
     "execution_count": 42,
     "metadata": {},
     "output_type": "execute_result"
    }
   ],
   "source": [
    "diccionario['Empleos']"
   ]
  },
  {
   "cell_type": "code",
   "execution_count": 43,
   "metadata": {},
   "outputs": [],
   "source": [
    "import pandas as pd"
   ]
  },
  {
   "cell_type": "code",
   "execution_count": 44,
   "metadata": {},
   "outputs": [],
   "source": [
    "df=pd.DataFrame.from_dict(diccionario,orient=\"index\").reset_index()"
   ]
  },
  {
   "cell_type": "code",
   "execution_count": 45,
   "metadata": {},
   "outputs": [
    {
     "data": {
      "text/html": [
       "<div>\n",
       "<style scoped>\n",
       "    .dataframe tbody tr th:only-of-type {\n",
       "        vertical-align: middle;\n",
       "    }\n",
       "\n",
       "    .dataframe tbody tr th {\n",
       "        vertical-align: top;\n",
       "    }\n",
       "\n",
       "    .dataframe thead th {\n",
       "        text-align: right;\n",
       "    }\n",
       "</style>\n",
       "<table border=\"1\" class=\"dataframe\">\n",
       "  <thead>\n",
       "    <tr style=\"text-align: right;\">\n",
       "      <th></th>\n",
       "      <th>index</th>\n",
       "      <th>0</th>\n",
       "      <th>1</th>\n",
       "      <th>2</th>\n",
       "      <th>3</th>\n",
       "    </tr>\n",
       "  </thead>\n",
       "  <tbody>\n",
       "    <tr>\n",
       "      <th>0</th>\n",
       "      <td>Inmuebles</td>\n",
       "      <td>Departamentos(3127)</td>\n",
       "      <td>Casas(435)</td>\n",
       "      <td>Locales Comerciales. Oficinas y Consultorios(325)</td>\n",
       "      <td>Habitaciones en Hoteles, Casas de Familias y P...</td>\n",
       "    </tr>\n",
       "    <tr>\n",
       "      <th>1</th>\n",
       "      <td>Automotores</td>\n",
       "      <td>Automóviles Nacionales e Importados(633)</td>\n",
       "      <td>4x4, Pick-up, Vans, Mini Vans, Utilitarios(84)</td>\n",
       "      <td>Taxis, Repuestos y Accesorios(37)</td>\n",
       "      <td>Planes de ahorro y Chocados(30)</td>\n",
       "    </tr>\n",
       "    <tr>\n",
       "      <th>2</th>\n",
       "      <td>Empleos</td>\n",
       "      <td>Oficios y Ocupaciones Varias(659)</td>\n",
       "      <td>Choferes, Personal de Transporte y Abastecimie...</td>\n",
       "      <td>Empleados(111)</td>\n",
       "      <td>Personal auxiliar de Casas Particulares. Hotel...</td>\n",
       "    </tr>\n",
       "    <tr>\n",
       "      <th>3</th>\n",
       "      <td>Servicios</td>\n",
       "      <td>Cuidado de Personas(469)</td>\n",
       "      <td>Astrología y Tarot(144)</td>\n",
       "      <td>Construcción y Refacciones(55)</td>\n",
       "      <td>Mudanzas, Fletes y Logística(55)</td>\n",
       "    </tr>\n",
       "    <tr>\n",
       "      <th>4</th>\n",
       "      <td>Contactos</td>\n",
       "      <td>Agradecimientos(79)</td>\n",
       "      <td>Solos y Solas(11)</td>\n",
       "      <td>Mensajes y Saludos(2)</td>\n",
       "      <td>Sociales(1)</td>\n",
       "    </tr>\n",
       "    <tr>\n",
       "      <th>5</th>\n",
       "      <td>Mix</td>\n",
       "      <td>Máquinas y otros materiales para industrias y ...</td>\n",
       "      <td>Mascotas y Animales(18)</td>\n",
       "      <td>Hogar y Muebles(15)</td>\n",
       "      <td>Boliches y Otros(12)</td>\n",
       "    </tr>\n",
       "    <tr>\n",
       "      <th>6</th>\n",
       "      <td>Legales</td>\n",
       "      <td>Convocatorias(63)</td>\n",
       "      <td>Edictos Judiciales(38)</td>\n",
       "      <td>Avisos al Comercio(37)</td>\n",
       "      <td>Licitaciones(25)</td>\n",
       "    </tr>\n",
       "  </tbody>\n",
       "</table>\n",
       "</div>"
      ],
      "text/plain": [
       "         index                                                  0  \\\n",
       "0    Inmuebles                                Departamentos(3127)   \n",
       "1  Automotores           Automóviles Nacionales e Importados(633)   \n",
       "2      Empleos                  Oficios y Ocupaciones Varias(659)   \n",
       "3    Servicios                           Cuidado de Personas(469)   \n",
       "4    Contactos                                Agradecimientos(79)   \n",
       "5          Mix  Máquinas y otros materiales para industrias y ...   \n",
       "6      Legales                                  Convocatorias(63)   \n",
       "\n",
       "                                                   1  \\\n",
       "0                                         Casas(435)   \n",
       "1     4x4, Pick-up, Vans, Mini Vans, Utilitarios(84)   \n",
       "2  Choferes, Personal de Transporte y Abastecimie...   \n",
       "3                            Astrología y Tarot(144)   \n",
       "4                                  Solos y Solas(11)   \n",
       "5                            Mascotas y Animales(18)   \n",
       "6                             Edictos Judiciales(38)   \n",
       "\n",
       "                                                   2  \\\n",
       "0  Locales Comerciales. Oficinas y Consultorios(325)   \n",
       "1                  Taxis, Repuestos y Accesorios(37)   \n",
       "2                                     Empleados(111)   \n",
       "3                     Construcción y Refacciones(55)   \n",
       "4                              Mensajes y Saludos(2)   \n",
       "5                                Hogar y Muebles(15)   \n",
       "6                             Avisos al Comercio(37)   \n",
       "\n",
       "                                                   3  \n",
       "0  Habitaciones en Hoteles, Casas de Familias y P...  \n",
       "1                    Planes de ahorro y Chocados(30)  \n",
       "2  Personal auxiliar de Casas Particulares. Hotel...  \n",
       "3                   Mudanzas, Fletes y Logística(55)  \n",
       "4                                        Sociales(1)  \n",
       "5                               Boliches y Otros(12)  \n",
       "6                                   Licitaciones(25)  "
      ]
     },
     "execution_count": 45,
     "metadata": {},
     "output_type": "execute_result"
    }
   ],
   "source": [
    "df"
   ]
  },
  {
   "cell_type": "code",
   "execution_count": 46,
   "metadata": {},
   "outputs": [
    {
     "data": {
      "text/plain": [
       "0                                           Casas(435)\n",
       "1       4x4, Pick-up, Vans, Mini Vans, Utilitarios(84)\n",
       "2    Choferes, Personal de Transporte y Abastecimie...\n",
       "Name: 1, dtype: object"
      ]
     },
     "execution_count": 46,
     "metadata": {},
     "output_type": "execute_result"
    }
   ],
   "source": [
    "df.iloc[:3,2]"
   ]
  },
  {
   "cell_type": "code",
   "execution_count": 47,
   "metadata": {},
   "outputs": [],
   "source": [
    "diccionario2={\"titulos\":[],\"subtitulos\":[]}\n"
   ]
  },
  {
   "cell_type": "code",
   "execution_count": 171,
   "metadata": {},
   "outputs": [],
   "source": [
    "for i in df.T:\n",
    "    for j in df.T[i]:\n",
    "        diccionario2[\"titulos\"].append(df.iloc[i,0])\n",
    "        diccionario2[\"subtitulos\"].append(j)\n",
    "\n",
    "datosF=pd.DataFrame(diccionario2)\n"
   ]
  },
  {
   "cell_type": "code",
   "execution_count": 166,
   "metadata": {},
   "outputs": [],
   "source": [
    "X=datosF.iloc[:,0:1]\n",
    "Y=datosF.iloc[:,1:]\n",
    "Y=Y.values"
   ]
  },
  {
   "cell_type": "code",
   "execution_count": 167,
   "metadata": {},
   "outputs": [],
   "source": [
    "from sklearn.preprocessing import LabelEncoder\n",
    "from sklearn.preprocessing import OneHotEncoder\n",
    "from sklearn.feature_extraction.text import CountVectorizer"
   ]
  },
  {
   "cell_type": "code",
   "execution_count": null,
   "metadata": {},
   "outputs": [],
   "source": []
  },
  {
   "cell_type": "code",
   "execution_count": 168,
   "metadata": {},
   "outputs": [
    {
     "name": "stdout",
     "output_type": "stream",
     "text": [
      "[3 3 3 3 3 0 0 0 0 0 2 2 2 2 2 6 6 6 6 6 1 1 1 1 1 5 5 5 5 5 4 4 4 4 4]\n"
     ]
    },
    {
     "name": "stderr",
     "output_type": "stream",
     "text": [
      "C:\\Users\\Stalker\\Anaconda3\\lib\\site-packages\\sklearn\\preprocessing\\label.py:219: DataConversionWarning: A column-vector y was passed when a 1d array was expected. Please change the shape of y to (n_samples, ), for example using ravel().\n",
      "  y = column_or_1d(y, warn=True)\n",
      "C:\\Users\\Stalker\\Anaconda3\\lib\\site-packages\\sklearn\\preprocessing\\label.py:252: DataConversionWarning: A column-vector y was passed when a 1d array was expected. Please change the shape of y to (n_samples, ), for example using ravel().\n",
      "  y = column_or_1d(y, warn=True)\n"
     ]
    }
   ],
   "source": [
    "x=X\n",
    "labelencoder_X=LabelEncoder()\n",
    "labelencoder_X.fit(X)\n",
    "X=labelencoder_X.transform(X)\n",
    "print(X)\n"
   ]
  },
  {
   "cell_type": "code",
   "execution_count": 52,
   "metadata": {},
   "outputs": [
    {
     "name": "stderr",
     "output_type": "stream",
     "text": [
      "C:\\Users\\Stalker\\Anaconda3\\lib\\site-packages\\sklearn\\preprocessing\\_encoders.py:368: FutureWarning: The handling of integer data will change in version 0.22. Currently, the categories are determined based on the range [0, max(values)], while in the future they will be determined based on the unique values.\n",
      "If you want the future behaviour and silence this warning, you can specify \"categories='auto'\".\n",
      "In case you used a LabelEncoder before this OneHotEncoder to convert the categories to integers, then you can now use the OneHotEncoder directly.\n",
      "  warnings.warn(msg, FutureWarning)\n",
      "C:\\Users\\Stalker\\Anaconda3\\lib\\site-packages\\sklearn\\preprocessing\\_encoders.py:390: DeprecationWarning: The 'categorical_features' keyword is deprecated in version 0.20 and will be removed in 0.22. You can use the ColumnTransformer instead.\n",
      "  \"use the ColumnTransformer instead.\", DeprecationWarning)\n"
     ]
    },
    {
     "data": {
      "text/plain": [
       "array([[0., 0., 0., 1., 0., 0., 0.],\n",
       "       [0., 0., 0., 1., 0., 0., 0.],\n",
       "       [0., 0., 0., 1., 0., 0., 0.],\n",
       "       [0., 0., 0., 1., 0., 0., 0.],\n",
       "       [0., 0., 0., 1., 0., 0., 0.],\n",
       "       [1., 0., 0., 0., 0., 0., 0.],\n",
       "       [1., 0., 0., 0., 0., 0., 0.],\n",
       "       [1., 0., 0., 0., 0., 0., 0.],\n",
       "       [1., 0., 0., 0., 0., 0., 0.],\n",
       "       [1., 0., 0., 0., 0., 0., 0.],\n",
       "       [0., 0., 1., 0., 0., 0., 0.],\n",
       "       [0., 0., 1., 0., 0., 0., 0.],\n",
       "       [0., 0., 1., 0., 0., 0., 0.],\n",
       "       [0., 0., 1., 0., 0., 0., 0.],\n",
       "       [0., 0., 1., 0., 0., 0., 0.],\n",
       "       [0., 0., 0., 0., 0., 0., 1.],\n",
       "       [0., 0., 0., 0., 0., 0., 1.],\n",
       "       [0., 0., 0., 0., 0., 0., 1.],\n",
       "       [0., 0., 0., 0., 0., 0., 1.],\n",
       "       [0., 0., 0., 0., 0., 0., 1.],\n",
       "       [0., 1., 0., 0., 0., 0., 0.],\n",
       "       [0., 1., 0., 0., 0., 0., 0.],\n",
       "       [0., 1., 0., 0., 0., 0., 0.],\n",
       "       [0., 1., 0., 0., 0., 0., 0.],\n",
       "       [0., 1., 0., 0., 0., 0., 0.],\n",
       "       [0., 0., 0., 0., 0., 1., 0.],\n",
       "       [0., 0., 0., 0., 0., 1., 0.],\n",
       "       [0., 0., 0., 0., 0., 1., 0.],\n",
       "       [0., 0., 0., 0., 0., 1., 0.],\n",
       "       [0., 0., 0., 0., 0., 1., 0.],\n",
       "       [0., 0., 0., 0., 1., 0., 0.],\n",
       "       [0., 0., 0., 0., 1., 0., 0.],\n",
       "       [0., 0., 0., 0., 1., 0., 0.],\n",
       "       [0., 0., 0., 0., 1., 0., 0.],\n",
       "       [0., 0., 0., 0., 1., 0., 0.]])"
      ]
     },
     "execution_count": 52,
     "metadata": {},
     "output_type": "execute_result"
    }
   ],
   "source": [
    "cx=X.reshape(35,1).astype(\"float32\")\n",
    "onehotencoder=OneHotEncoder(categorical_features=[0])\n",
    "X=onehotencoder.fit_transform(cx).toarray()\n",
    "X"
   ]
  },
  {
   "cell_type": "code",
   "execution_count": 53,
   "metadata": {},
   "outputs": [],
   "source": [
    "from keras.preprocessing.text import one_hot\n",
    "import numpy as np"
   ]
  },
  {
   "cell_type": "code",
   "execution_count": null,
   "metadata": {},
   "outputs": [],
   "source": []
  },
  {
   "cell_type": "code",
   "execution_count": 145,
   "metadata": {},
   "outputs": [],
   "source": [
    "def one_hotear(vector):\n",
    "    yei=[]\n",
    "    yei=[x for x in one_hot(str(vector),len(vector))]\n",
    "    yei=set(yei)\n",
    "    yei=np.asarray(list(yei)).astype(\"int\")\n",
    "    return yei\n"
   ]
  },
  {
   "cell_type": "code",
   "execution_count": 146,
   "metadata": {},
   "outputs": [
    {
     "data": {
      "text/plain": [
       "array([ 1,  2,  3,  4,  5,  6,  7,  9, 10, 11, 12, 13, 14, 15, 16, 17, 18,\n",
       "       19, 20, 21, 22, 23, 24, 25, 26, 27, 28, 29, 30, 31, 32, 33, 34])"
      ]
     },
     "execution_count": 146,
     "metadata": {},
     "output_type": "execute_result"
    }
   ],
   "source": [
    "yei=one_hotear(Y)\n",
    "yei"
   ]
  },
  {
   "cell_type": "code",
   "execution_count": 76,
   "metadata": {},
   "outputs": [
    {
     "name": "stdout",
     "output_type": "stream",
     "text": [
      "35 33\n"
     ]
    }
   ],
   "source": [
    "print(len(X),len(yei_vect))"
   ]
  },
  {
   "cell_type": "code",
   "execution_count": 74,
   "metadata": {},
   "outputs": [],
   "source": [
    "def vectorizar(sequences,dimension=35):\n",
    "    results=np.zeros((len(sequences),dimension))\n",
    "    for i,sequences in enumerate(sequences):\n",
    "        results[i,sequences]=1.\n",
    "    return results"
   ]
  },
  {
   "cell_type": "code",
   "execution_count": 75,
   "metadata": {},
   "outputs": [],
   "source": [
    "yei_vect=vectorizar(yei)"
   ]
  },
  {
   "cell_type": "code",
   "execution_count": 77,
   "metadata": {},
   "outputs": [],
   "source": [
    "from keras import models,layers"
   ]
  },
  {
   "cell_type": "code",
   "execution_count": 78,
   "metadata": {},
   "outputs": [],
   "source": [
    "model=models.Sequential()\n",
    "model.add(layers.Dense(10,activation='relu',input_shape=(35,)))\n",
    "model.add(layers.Dense(10,activation='relu'))\n",
    "model.add(layers.Dense(7,activation='softmax'))"
   ]
  },
  {
   "cell_type": "code",
   "execution_count": 79,
   "metadata": {},
   "outputs": [],
   "source": [
    "model.compile(optimizer='adam',loss='binary_crossentropy',metrics=['accuracy'])"
   ]
  },
  {
   "cell_type": "code",
   "execution_count": 80,
   "metadata": {},
   "outputs": [],
   "source": [
    "Yvei=yei_vect[:15]\n",
    "x_train=X[:15]\n",
    "yei_val=yei_vect[15:29]\n",
    "x_val=X[15:29]"
   ]
  },
  {
   "cell_type": "code",
   "execution_count": 84,
   "metadata": {},
   "outputs": [
    {
     "name": "stdout",
     "output_type": "stream",
     "text": [
      "Train on 15 samples, validate on 15 samples\n",
      "Epoch 1/250\n",
      "15/15 [==============================] - 0s 733us/step - loss: 0.3841 - acc: 0.8571 - val_loss: 0.3834 - val_acc: 0.8571\n",
      "Epoch 2/250\n",
      "15/15 [==============================] - 0s 600us/step - loss: 0.3834 - acc: 0.8571 - val_loss: 0.3827 - val_acc: 0.8571\n",
      "Epoch 3/250\n",
      "15/15 [==============================] - 0s 467us/step - loss: 0.3827 - acc: 0.8571 - val_loss: 0.3820 - val_acc: 0.8571\n",
      "Epoch 4/250\n",
      "15/15 [==============================] - 0s 400us/step - loss: 0.3820 - acc: 0.8571 - val_loss: 0.3813 - val_acc: 0.8571\n",
      "Epoch 5/250\n",
      "15/15 [==============================] - 0s 200us/step - loss: 0.3813 - acc: 0.8571 - val_loss: 0.3806 - val_acc: 0.8571\n",
      "Epoch 6/250\n",
      "15/15 [==============================] - 0s 133us/step - loss: 0.3806 - acc: 0.8571 - val_loss: 0.3799 - val_acc: 0.8571\n",
      "Epoch 7/250\n",
      "15/15 [==============================] - 0s 400us/step - loss: 0.3799 - acc: 0.8571 - val_loss: 0.3792 - val_acc: 0.8571\n",
      "Epoch 8/250\n",
      "15/15 [==============================] - 0s 333us/step - loss: 0.3792 - acc: 0.8571 - val_loss: 0.3785 - val_acc: 0.8571\n",
      "Epoch 9/250\n",
      "15/15 [==============================] - 0s 333us/step - loss: 0.3785 - acc: 0.8571 - val_loss: 0.3778 - val_acc: 0.8571\n",
      "Epoch 10/250\n",
      "15/15 [==============================] - 0s 400us/step - loss: 0.3778 - acc: 0.8571 - val_loss: 0.3771 - val_acc: 0.8571\n",
      "Epoch 11/250\n",
      "15/15 [==============================] - 0s 333us/step - loss: 0.3771 - acc: 0.8571 - val_loss: 0.3764 - val_acc: 0.8571\n",
      "Epoch 12/250\n",
      "15/15 [==============================] - 0s 400us/step - loss: 0.3764 - acc: 0.8571 - val_loss: 0.3756 - val_acc: 0.8571\n",
      "Epoch 13/250\n",
      "15/15 [==============================] - 0s 267us/step - loss: 0.3756 - acc: 0.8571 - val_loss: 0.3749 - val_acc: 0.8571\n",
      "Epoch 14/250\n",
      "15/15 [==============================] - 0s 533us/step - loss: 0.3749 - acc: 0.8571 - val_loss: 0.3741 - val_acc: 0.8571\n",
      "Epoch 15/250\n",
      "15/15 [==============================] - 0s 267us/step - loss: 0.3741 - acc: 0.8571 - val_loss: 0.3734 - val_acc: 0.8571\n",
      "Epoch 16/250\n",
      "15/15 [==============================] - 0s 200us/step - loss: 0.3734 - acc: 0.8571 - val_loss: 0.3726 - val_acc: 0.8571\n",
      "Epoch 17/250\n",
      "15/15 [==============================] - 0s 200us/step - loss: 0.3726 - acc: 0.8571 - val_loss: 0.3718 - val_acc: 0.8571\n",
      "Epoch 18/250\n",
      "15/15 [==============================] - 0s 333us/step - loss: 0.3718 - acc: 0.8571 - val_loss: 0.3710 - val_acc: 0.8571\n",
      "Epoch 19/250\n",
      "15/15 [==============================] - 0s 333us/step - loss: 0.3710 - acc: 0.8571 - val_loss: 0.3702 - val_acc: 0.8571\n",
      "Epoch 20/250\n",
      "15/15 [==============================] - 0s 267us/step - loss: 0.3702 - acc: 0.8571 - val_loss: 0.3694 - val_acc: 0.8571\n",
      "Epoch 21/250\n",
      "15/15 [==============================] - 0s 200us/step - loss: 0.3694 - acc: 0.8571 - val_loss: 0.3685 - val_acc: 0.8571\n",
      "Epoch 22/250\n",
      "15/15 [==============================] - 0s 1ms/step - loss: 0.3685 - acc: 0.8571 - val_loss: 0.3677 - val_acc: 0.8571\n",
      "Epoch 23/250\n",
      "15/15 [==============================] - 0s 200us/step - loss: 0.3677 - acc: 0.8571 - val_loss: 0.3668 - val_acc: 0.8571\n",
      "Epoch 24/250\n",
      "15/15 [==============================] - 0s 667us/step - loss: 0.3668 - acc: 0.8571 - val_loss: 0.3660 - val_acc: 0.8571\n",
      "Epoch 25/250\n",
      "15/15 [==============================] - 0s 267us/step - loss: 0.3660 - acc: 0.8571 - val_loss: 0.3651 - val_acc: 0.8571\n",
      "Epoch 26/250\n",
      "15/15 [==============================] - 0s 467us/step - loss: 0.3651 - acc: 0.8571 - val_loss: 0.3642 - val_acc: 0.8571\n",
      "Epoch 27/250\n",
      "15/15 [==============================] - 0s 267us/step - loss: 0.3642 - acc: 0.8571 - val_loss: 0.3634 - val_acc: 0.8571\n",
      "Epoch 28/250\n",
      "15/15 [==============================] - 0s 267us/step - loss: 0.3634 - acc: 0.8571 - val_loss: 0.3625 - val_acc: 0.8571\n",
      "Epoch 29/250\n",
      "15/15 [==============================] - 0s 200us/step - loss: 0.3625 - acc: 0.8571 - val_loss: 0.3616 - val_acc: 0.8571\n",
      "Epoch 30/250\n",
      "15/15 [==============================] - 0s 267us/step - loss: 0.3616 - acc: 0.8571 - val_loss: 0.3607 - val_acc: 0.8571\n",
      "Epoch 31/250\n",
      "15/15 [==============================] - 0s 200us/step - loss: 0.3607 - acc: 0.8571 - val_loss: 0.3598 - val_acc: 0.8571\n",
      "Epoch 32/250\n",
      "15/15 [==============================] - 0s 733us/step - loss: 0.3598 - acc: 0.8571 - val_loss: 0.3588 - val_acc: 0.8571\n",
      "Epoch 33/250\n",
      "15/15 [==============================] - 0s 533us/step - loss: 0.3588 - acc: 0.8571 - val_loss: 0.3579 - val_acc: 0.8571\n",
      "Epoch 34/250\n",
      "15/15 [==============================] - 0s 400us/step - loss: 0.3579 - acc: 0.8571 - val_loss: 0.3569 - val_acc: 0.8571\n",
      "Epoch 35/250\n",
      "15/15 [==============================] - 0s 467us/step - loss: 0.3569 - acc: 0.8571 - val_loss: 0.3559 - val_acc: 0.8571\n",
      "Epoch 36/250\n",
      "15/15 [==============================] - 0s 267us/step - loss: 0.3559 - acc: 0.8571 - val_loss: 0.3550 - val_acc: 0.8571\n",
      "Epoch 37/250\n",
      "15/15 [==============================] - 0s 533us/step - loss: 0.3550 - acc: 0.8571 - val_loss: 0.3540 - val_acc: 0.8571\n",
      "Epoch 38/250\n",
      "15/15 [==============================] - 0s 400us/step - loss: 0.3540 - acc: 0.8571 - val_loss: 0.3530 - val_acc: 0.8571\n",
      "Epoch 39/250\n",
      "15/15 [==============================] - 0s 400us/step - loss: 0.3530 - acc: 0.8571 - val_loss: 0.3520 - val_acc: 0.8571\n",
      "Epoch 40/250\n",
      "15/15 [==============================] - 0s 400us/step - loss: 0.3520 - acc: 0.8571 - val_loss: 0.3510 - val_acc: 0.8571\n",
      "Epoch 41/250\n",
      "15/15 [==============================] - 0s 267us/step - loss: 0.3510 - acc: 0.8571 - val_loss: 0.3500 - val_acc: 0.8571\n",
      "Epoch 42/250\n",
      "15/15 [==============================] - 0s 267us/step - loss: 0.3500 - acc: 0.8571 - val_loss: 0.3490 - val_acc: 0.8571\n",
      "Epoch 43/250\n",
      "15/15 [==============================] - 0s 200us/step - loss: 0.3490 - acc: 0.8571 - val_loss: 0.3480 - val_acc: 0.8571\n",
      "Epoch 44/250\n",
      "15/15 [==============================] - 0s 400us/step - loss: 0.3480 - acc: 0.8571 - val_loss: 0.3469 - val_acc: 0.8571\n",
      "Epoch 45/250\n",
      "15/15 [==============================] - 0s 267us/step - loss: 0.3469 - acc: 0.8571 - val_loss: 0.3459 - val_acc: 0.8571\n",
      "Epoch 46/250\n",
      "15/15 [==============================] - 0s 400us/step - loss: 0.3459 - acc: 0.8571 - val_loss: 0.3449 - val_acc: 0.8571\n",
      "Epoch 47/250\n",
      "15/15 [==============================] - 0s 267us/step - loss: 0.3449 - acc: 0.8571 - val_loss: 0.3438 - val_acc: 0.8571\n",
      "Epoch 48/250\n",
      "15/15 [==============================] - 0s 600us/step - loss: 0.3438 - acc: 0.8571 - val_loss: 0.3428 - val_acc: 0.8571\n",
      "Epoch 49/250\n",
      "15/15 [==============================] - 0s 333us/step - loss: 0.3428 - acc: 0.8571 - val_loss: 0.3417 - val_acc: 0.8571\n",
      "Epoch 50/250\n",
      "15/15 [==============================] - 0s 200us/step - loss: 0.3417 - acc: 0.8571 - val_loss: 0.3406 - val_acc: 0.8571\n",
      "Epoch 51/250\n",
      "15/15 [==============================] - 0s 333us/step - loss: 0.3406 - acc: 0.8571 - val_loss: 0.3396 - val_acc: 0.8571\n",
      "Epoch 52/250\n",
      "15/15 [==============================] - 0s 200us/step - loss: 0.3396 - acc: 0.8571 - val_loss: 0.3385 - val_acc: 0.8571\n",
      "Epoch 53/250\n",
      "15/15 [==============================] - 0s 200us/step - loss: 0.3385 - acc: 0.8571 - val_loss: 0.3374 - val_acc: 0.8571\n",
      "Epoch 54/250\n",
      "15/15 [==============================] - 0s 333us/step - loss: 0.3374 - acc: 0.8571 - val_loss: 0.3363 - val_acc: 0.8571\n",
      "Epoch 55/250\n",
      "15/15 [==============================] - 0s 600us/step - loss: 0.3363 - acc: 0.8571 - val_loss: 0.3352 - val_acc: 0.8571\n",
      "Epoch 56/250\n",
      "15/15 [==============================] - 0s 333us/step - loss: 0.3352 - acc: 0.8571 - val_loss: 0.3341 - val_acc: 0.8571\n",
      "Epoch 57/250\n",
      "15/15 [==============================] - 0s 133us/step - loss: 0.3341 - acc: 0.8571 - val_loss: 0.3330 - val_acc: 0.8571\n",
      "Epoch 58/250\n",
      "15/15 [==============================] - 0s 267us/step - loss: 0.3330 - acc: 0.8571 - val_loss: 0.3318 - val_acc: 0.8571\n",
      "Epoch 59/250\n",
      "15/15 [==============================] - 0s 467us/step - loss: 0.3318 - acc: 0.8571 - val_loss: 0.3307 - val_acc: 0.8571\n",
      "Epoch 60/250\n",
      "15/15 [==============================] - 0s 400us/step - loss: 0.3307 - acc: 0.8571 - val_loss: 0.3296 - val_acc: 0.8571\n",
      "Epoch 61/250\n",
      "15/15 [==============================] - 0s 200us/step - loss: 0.3296 - acc: 0.8571 - val_loss: 0.3284 - val_acc: 0.8571\n"
     ]
    },
    {
     "name": "stdout",
     "output_type": "stream",
     "text": [
      "Epoch 62/250\n",
      "15/15 [==============================] - 0s 533us/step - loss: 0.3284 - acc: 0.8571 - val_loss: 0.3272 - val_acc: 0.8571\n",
      "Epoch 63/250\n",
      "15/15 [==============================] - 0s 267us/step - loss: 0.3272 - acc: 0.8571 - val_loss: 0.3261 - val_acc: 0.8571\n",
      "Epoch 64/250\n",
      "15/15 [==============================] - 0s 267us/step - loss: 0.3261 - acc: 0.8571 - val_loss: 0.3249 - val_acc: 0.8571\n",
      "Epoch 65/250\n",
      "15/15 [==============================] - 0s 267us/step - loss: 0.3249 - acc: 0.8571 - val_loss: 0.3237 - val_acc: 0.8571\n",
      "Epoch 66/250\n",
      "15/15 [==============================] - 0s 267us/step - loss: 0.3237 - acc: 0.8571 - val_loss: 0.3225 - val_acc: 0.8571\n",
      "Epoch 67/250\n",
      "15/15 [==============================] - 0s 200us/step - loss: 0.3225 - acc: 0.8571 - val_loss: 0.3214 - val_acc: 0.8571\n",
      "Epoch 68/250\n",
      "15/15 [==============================] - 0s 400us/step - loss: 0.3214 - acc: 0.8571 - val_loss: 0.3202 - val_acc: 0.8571\n",
      "Epoch 69/250\n",
      "15/15 [==============================] - 0s 200us/step - loss: 0.3202 - acc: 0.8571 - val_loss: 0.3189 - val_acc: 0.8571\n",
      "Epoch 70/250\n",
      "15/15 [==============================] - 0s 533us/step - loss: 0.3189 - acc: 0.8571 - val_loss: 0.3177 - val_acc: 0.8571\n",
      "Epoch 71/250\n",
      "15/15 [==============================] - 0s 533us/step - loss: 0.3177 - acc: 0.8571 - val_loss: 0.3165 - val_acc: 0.8571\n",
      "Epoch 72/250\n",
      "15/15 [==============================] - 0s 333us/step - loss: 0.3165 - acc: 0.8571 - val_loss: 0.3152 - val_acc: 0.8571\n",
      "Epoch 73/250\n",
      "15/15 [==============================] - 0s 200us/step - loss: 0.3152 - acc: 0.8571 - val_loss: 0.3139 - val_acc: 0.8571\n",
      "Epoch 74/250\n",
      "15/15 [==============================] - 0s 200us/step - loss: 0.3139 - acc: 0.8571 - val_loss: 0.3126 - val_acc: 0.8571\n",
      "Epoch 75/250\n",
      "15/15 [==============================] - 0s 600us/step - loss: 0.3126 - acc: 0.8571 - val_loss: 0.3113 - val_acc: 0.8571\n",
      "Epoch 76/250\n",
      "15/15 [==============================] - 0s 200us/step - loss: 0.3113 - acc: 0.8571 - val_loss: 0.3099 - val_acc: 0.8571\n",
      "Epoch 77/250\n",
      "15/15 [==============================] - 0s 267us/step - loss: 0.3099 - acc: 0.8571 - val_loss: 0.3086 - val_acc: 0.8571\n",
      "Epoch 78/250\n",
      "15/15 [==============================] - 0s 200us/step - loss: 0.3086 - acc: 0.8571 - val_loss: 0.3072 - val_acc: 0.8571\n",
      "Epoch 79/250\n",
      "15/15 [==============================] - 0s 200us/step - loss: 0.3072 - acc: 0.8571 - val_loss: 0.3058 - val_acc: 0.8667\n",
      "Epoch 80/250\n",
      "15/15 [==============================] - 0s 267us/step - loss: 0.3058 - acc: 0.8667 - val_loss: 0.3045 - val_acc: 0.8667\n",
      "Epoch 81/250\n",
      "15/15 [==============================] - 0s 200us/step - loss: 0.3045 - acc: 0.8667 - val_loss: 0.3031 - val_acc: 0.8667\n",
      "Epoch 82/250\n",
      "15/15 [==============================] - 0s 267us/step - loss: 0.3031 - acc: 0.8667 - val_loss: 0.3017 - val_acc: 0.8667\n",
      "Epoch 83/250\n",
      "15/15 [==============================] - 0s 267us/step - loss: 0.3017 - acc: 0.8667 - val_loss: 0.3003 - val_acc: 0.8667\n",
      "Epoch 84/250\n",
      "15/15 [==============================] - 0s 200us/step - loss: 0.3003 - acc: 0.8667 - val_loss: 0.2990 - val_acc: 0.8667\n",
      "Epoch 85/250\n",
      "15/15 [==============================] - 0s 267us/step - loss: 0.2990 - acc: 0.8667 - val_loss: 0.2976 - val_acc: 0.8667\n",
      "Epoch 86/250\n",
      "15/15 [==============================] - 0s 3ms/step - loss: 0.2976 - acc: 0.8667 - val_loss: 0.2962 - val_acc: 0.8667\n",
      "Epoch 87/250\n",
      "15/15 [==============================] - 0s 667us/step - loss: 0.2962 - acc: 0.8667 - val_loss: 0.2947 - val_acc: 0.8667\n",
      "Epoch 88/250\n",
      "15/15 [==============================] - 0s 467us/step - loss: 0.2947 - acc: 0.8667 - val_loss: 0.2933 - val_acc: 0.8667\n",
      "Epoch 89/250\n",
      "15/15 [==============================] - 0s 200us/step - loss: 0.2933 - acc: 0.8667 - val_loss: 0.2918 - val_acc: 0.8667\n",
      "Epoch 90/250\n",
      "15/15 [==============================] - 0s 467us/step - loss: 0.2918 - acc: 0.8667 - val_loss: 0.2903 - val_acc: 0.8667\n",
      "Epoch 91/250\n",
      "15/15 [==============================] - 0s 200us/step - loss: 0.2903 - acc: 0.8667 - val_loss: 0.2888 - val_acc: 0.8667\n",
      "Epoch 92/250\n",
      "15/15 [==============================] - 0s 533us/step - loss: 0.2888 - acc: 0.8667 - val_loss: 0.2873 - val_acc: 0.8667\n",
      "Epoch 93/250\n",
      "15/15 [==============================] - 0s 267us/step - loss: 0.2873 - acc: 0.8667 - val_loss: 0.2858 - val_acc: 0.8667\n",
      "Epoch 94/250\n",
      "15/15 [==============================] - 0s 333us/step - loss: 0.2858 - acc: 0.8667 - val_loss: 0.2842 - val_acc: 0.8667\n",
      "Epoch 95/250\n",
      "15/15 [==============================] - 0s 200us/step - loss: 0.2842 - acc: 0.8667 - val_loss: 0.2826 - val_acc: 0.8667\n",
      "Epoch 96/250\n",
      "15/15 [==============================] - 0s 200us/step - loss: 0.2826 - acc: 0.8667 - val_loss: 0.2810 - val_acc: 0.8667\n",
      "Epoch 97/250\n",
      "15/15 [==============================] - 0s 200us/step - loss: 0.2810 - acc: 0.8667 - val_loss: 0.2794 - val_acc: 0.8667\n",
      "Epoch 98/250\n",
      "15/15 [==============================] - 0s 200us/step - loss: 0.2794 - acc: 0.8667 - val_loss: 0.2778 - val_acc: 0.8667\n",
      "Epoch 99/250\n",
      "15/15 [==============================] - 0s 133us/step - loss: 0.2778 - acc: 0.8667 - val_loss: 0.2762 - val_acc: 0.8667\n",
      "Epoch 100/250\n",
      "15/15 [==============================] - 0s 200us/step - loss: 0.2762 - acc: 0.8667 - val_loss: 0.2745 - val_acc: 0.8667\n",
      "Epoch 101/250\n",
      "15/15 [==============================] - 0s 400us/step - loss: 0.2745 - acc: 0.8667 - val_loss: 0.2729 - val_acc: 0.8667\n",
      "Epoch 102/250\n",
      "15/15 [==============================] - 0s 267us/step - loss: 0.2729 - acc: 0.8667 - val_loss: 0.2713 - val_acc: 0.8667\n",
      "Epoch 103/250\n",
      "15/15 [==============================] - 0s 200us/step - loss: 0.2713 - acc: 0.8667 - val_loss: 0.2696 - val_acc: 0.8762\n",
      "Epoch 104/250\n",
      "15/15 [==============================] - 0s 200us/step - loss: 0.2696 - acc: 0.8762 - val_loss: 0.2679 - val_acc: 0.8762\n",
      "Epoch 105/250\n",
      "15/15 [==============================] - 0s 200us/step - loss: 0.2679 - acc: 0.8762 - val_loss: 0.2663 - val_acc: 0.8857\n",
      "Epoch 106/250\n",
      "15/15 [==============================] - 0s 200us/step - loss: 0.2663 - acc: 0.8857 - val_loss: 0.2646 - val_acc: 0.8857\n",
      "Epoch 107/250\n",
      "15/15 [==============================] - 0s 267us/step - loss: 0.2646 - acc: 0.8857 - val_loss: 0.2629 - val_acc: 0.8857\n",
      "Epoch 108/250\n",
      "15/15 [==============================] - 0s 200us/step - loss: 0.2629 - acc: 0.8857 - val_loss: 0.2612 - val_acc: 0.8857\n",
      "Epoch 109/250\n",
      "15/15 [==============================] - 0s 200us/step - loss: 0.2612 - acc: 0.8857 - val_loss: 0.2596 - val_acc: 0.8857\n",
      "Epoch 110/250\n",
      "15/15 [==============================] - 0s 200us/step - loss: 0.2596 - acc: 0.8857 - val_loss: 0.2579 - val_acc: 0.8857\n",
      "Epoch 111/250\n",
      "15/15 [==============================] - 0s 200us/step - loss: 0.2579 - acc: 0.8857 - val_loss: 0.2562 - val_acc: 0.8857\n",
      "Epoch 112/250\n",
      "15/15 [==============================] - 0s 1ms/step - loss: 0.2562 - acc: 0.8857 - val_loss: 0.2545 - val_acc: 0.8857\n",
      "Epoch 113/250\n",
      "15/15 [==============================] - 0s 467us/step - loss: 0.2545 - acc: 0.8857 - val_loss: 0.2528 - val_acc: 0.8857\n",
      "Epoch 114/250\n",
      "15/15 [==============================] - 0s 200us/step - loss: 0.2528 - acc: 0.8857 - val_loss: 0.2511 - val_acc: 0.8857\n",
      "Epoch 115/250\n",
      "15/15 [==============================] - 0s 333us/step - loss: 0.2511 - acc: 0.8857 - val_loss: 0.2494 - val_acc: 0.8857\n",
      "Epoch 116/250\n",
      "15/15 [==============================] - 0s 200us/step - loss: 0.2494 - acc: 0.8857 - val_loss: 0.2477 - val_acc: 0.8857\n",
      "Epoch 117/250\n",
      "15/15 [==============================] - 0s 200us/step - loss: 0.2477 - acc: 0.8857 - val_loss: 0.2460 - val_acc: 0.8857\n",
      "Epoch 118/250\n",
      "15/15 [==============================] - 0s 333us/step - loss: 0.2460 - acc: 0.8857 - val_loss: 0.2443 - val_acc: 0.8857\n",
      "Epoch 119/250\n",
      "15/15 [==============================] - 0s 267us/step - loss: 0.2443 - acc: 0.8857 - val_loss: 0.2425 - val_acc: 0.8952\n",
      "Epoch 120/250\n",
      "15/15 [==============================] - 0s 533us/step - loss: 0.2425 - acc: 0.8952 - val_loss: 0.2408 - val_acc: 0.9048\n",
      "Epoch 121/250\n",
      "15/15 [==============================] - 0s 267us/step - loss: 0.2408 - acc: 0.9048 - val_loss: 0.2390 - val_acc: 0.9048\n",
      "Epoch 122/250\n",
      "15/15 [==============================] - 0s 200us/step - loss: 0.2390 - acc: 0.9048 - val_loss: 0.2373 - val_acc: 0.9048\n"
     ]
    },
    {
     "name": "stdout",
     "output_type": "stream",
     "text": [
      "Epoch 123/250\n",
      "15/15 [==============================] - 0s 200us/step - loss: 0.2373 - acc: 0.9048 - val_loss: 0.2356 - val_acc: 0.9048\n",
      "Epoch 124/250\n",
      "15/15 [==============================] - 0s 533us/step - loss: 0.2356 - acc: 0.9048 - val_loss: 0.2339 - val_acc: 0.9048\n",
      "Epoch 125/250\n",
      "15/15 [==============================] - 0s 400us/step - loss: 0.2339 - acc: 0.9048 - val_loss: 0.2322 - val_acc: 0.9048\n",
      "Epoch 126/250\n",
      "15/15 [==============================] - 0s 267us/step - loss: 0.2322 - acc: 0.9048 - val_loss: 0.2305 - val_acc: 0.9048\n",
      "Epoch 127/250\n",
      "15/15 [==============================] - 0s 267us/step - loss: 0.2305 - acc: 0.9048 - val_loss: 0.2288 - val_acc: 0.9048\n",
      "Epoch 128/250\n",
      "15/15 [==============================] - 0s 200us/step - loss: 0.2288 - acc: 0.9048 - val_loss: 0.2271 - val_acc: 0.9048\n",
      "Epoch 129/250\n",
      "15/15 [==============================] - 0s 400us/step - loss: 0.2271 - acc: 0.9048 - val_loss: 0.2254 - val_acc: 0.9048\n",
      "Epoch 130/250\n",
      "15/15 [==============================] - 0s 267us/step - loss: 0.2254 - acc: 0.9048 - val_loss: 0.2237 - val_acc: 0.9048\n",
      "Epoch 131/250\n",
      "15/15 [==============================] - 0s 200us/step - loss: 0.2237 - acc: 0.9048 - val_loss: 0.2220 - val_acc: 0.9048\n",
      "Epoch 132/250\n",
      "15/15 [==============================] - 0s 267us/step - loss: 0.2220 - acc: 0.9048 - val_loss: 0.2204 - val_acc: 0.9048\n",
      "Epoch 133/250\n",
      "15/15 [==============================] - 0s 200us/step - loss: 0.2204 - acc: 0.9048 - val_loss: 0.2187 - val_acc: 0.9048\n",
      "Epoch 134/250\n",
      "15/15 [==============================] - 0s 200us/step - loss: 0.2187 - acc: 0.9048 - val_loss: 0.2171 - val_acc: 0.9048\n",
      "Epoch 135/250\n",
      "15/15 [==============================] - 0s 200us/step - loss: 0.2171 - acc: 0.9048 - val_loss: 0.2155 - val_acc: 0.9048\n",
      "Epoch 136/250\n",
      "15/15 [==============================] - 0s 200us/step - loss: 0.2155 - acc: 0.9048 - val_loss: 0.2138 - val_acc: 0.9048\n",
      "Epoch 137/250\n",
      "15/15 [==============================] - 0s 600us/step - loss: 0.2138 - acc: 0.9048 - val_loss: 0.2122 - val_acc: 0.9048\n",
      "Epoch 138/250\n",
      "15/15 [==============================] - 0s 400us/step - loss: 0.2122 - acc: 0.9048 - val_loss: 0.2106 - val_acc: 0.9048\n",
      "Epoch 139/250\n",
      "15/15 [==============================] - 0s 200us/step - loss: 0.2106 - acc: 0.9048 - val_loss: 0.2090 - val_acc: 0.9048\n",
      "Epoch 140/250\n",
      "15/15 [==============================] - 0s 533us/step - loss: 0.2090 - acc: 0.9048 - val_loss: 0.2075 - val_acc: 0.9048\n",
      "Epoch 141/250\n",
      "15/15 [==============================] - 0s 200us/step - loss: 0.2075 - acc: 0.9048 - val_loss: 0.2059 - val_acc: 0.9048\n",
      "Epoch 142/250\n",
      "15/15 [==============================] - 0s 267us/step - loss: 0.2059 - acc: 0.9048 - val_loss: 0.2043 - val_acc: 0.9048\n",
      "Epoch 143/250\n",
      "15/15 [==============================] - 0s 267us/step - loss: 0.2043 - acc: 0.9048 - val_loss: 0.2028 - val_acc: 0.9048\n",
      "Epoch 144/250\n",
      "15/15 [==============================] - 0s 333us/step - loss: 0.2028 - acc: 0.9048 - val_loss: 0.2013 - val_acc: 0.9048\n",
      "Epoch 145/250\n",
      "15/15 [==============================] - 0s 200us/step - loss: 0.2013 - acc: 0.9048 - val_loss: 0.1998 - val_acc: 0.9048\n",
      "Epoch 146/250\n",
      "15/15 [==============================] - 0s 267us/step - loss: 0.1998 - acc: 0.9048 - val_loss: 0.1983 - val_acc: 0.9048\n",
      "Epoch 147/250\n",
      "15/15 [==============================] - 0s 200us/step - loss: 0.1983 - acc: 0.9048 - val_loss: 0.1968 - val_acc: 0.9048\n",
      "Epoch 148/250\n",
      "15/15 [==============================] - 0s 200us/step - loss: 0.1968 - acc: 0.9048 - val_loss: 0.1953 - val_acc: 0.9048\n",
      "Epoch 149/250\n",
      "15/15 [==============================] - 0s 200us/step - loss: 0.1953 - acc: 0.9048 - val_loss: 0.1939 - val_acc: 0.9048\n",
      "Epoch 150/250\n",
      "15/15 [==============================] - 0s 467us/step - loss: 0.1939 - acc: 0.9048 - val_loss: 0.1925 - val_acc: 0.9048\n",
      "Epoch 151/250\n",
      "15/15 [==============================] - 0s 200us/step - loss: 0.1925 - acc: 0.9048 - val_loss: 0.1911 - val_acc: 0.9048\n",
      "Epoch 152/250\n",
      "15/15 [==============================] - 0s 333us/step - loss: 0.1911 - acc: 0.9048 - val_loss: 0.1897 - val_acc: 0.9048\n",
      "Epoch 153/250\n",
      "15/15 [==============================] - 0s 667us/step - loss: 0.1897 - acc: 0.9048 - val_loss: 0.1883 - val_acc: 0.9048\n",
      "Epoch 154/250\n",
      "15/15 [==============================] - 0s 200us/step - loss: 0.1883 - acc: 0.9048 - val_loss: 0.1869 - val_acc: 0.9048\n",
      "Epoch 155/250\n",
      "15/15 [==============================] - 0s 267us/step - loss: 0.1869 - acc: 0.9048 - val_loss: 0.1855 - val_acc: 0.9048\n",
      "Epoch 156/250\n",
      "15/15 [==============================] - 0s 200us/step - loss: 0.1855 - acc: 0.9048 - val_loss: 0.1842 - val_acc: 0.9143\n",
      "Epoch 157/250\n",
      "15/15 [==============================] - 0s 200us/step - loss: 0.1842 - acc: 0.9143 - val_loss: 0.1829 - val_acc: 0.9143\n",
      "Epoch 158/250\n",
      "15/15 [==============================] - 0s 267us/step - loss: 0.1829 - acc: 0.9143 - val_loss: 0.1815 - val_acc: 0.9143\n",
      "Epoch 159/250\n",
      "15/15 [==============================] - 0s 733us/step - loss: 0.1815 - acc: 0.9143 - val_loss: 0.1802 - val_acc: 0.9143\n",
      "Epoch 160/250\n",
      "15/15 [==============================] - 0s 200us/step - loss: 0.1802 - acc: 0.9143 - val_loss: 0.1789 - val_acc: 0.9143\n",
      "Epoch 161/250\n",
      "15/15 [==============================] - 0s 533us/step - loss: 0.1789 - acc: 0.9143 - val_loss: 0.1776 - val_acc: 0.9143\n",
      "Epoch 162/250\n",
      "15/15 [==============================] - 0s 733us/step - loss: 0.1776 - acc: 0.9143 - val_loss: 0.1763 - val_acc: 0.9143\n",
      "Epoch 163/250\n",
      "15/15 [==============================] - 0s 667us/step - loss: 0.1763 - acc: 0.9143 - val_loss: 0.1750 - val_acc: 0.9143\n",
      "Epoch 164/250\n",
      "15/15 [==============================] - 0s 267us/step - loss: 0.1750 - acc: 0.9143 - val_loss: 0.1737 - val_acc: 0.9143\n",
      "Epoch 165/250\n",
      "15/15 [==============================] - 0s 267us/step - loss: 0.1737 - acc: 0.9143 - val_loss: 0.1724 - val_acc: 0.9143\n",
      "Epoch 166/250\n",
      "15/15 [==============================] - 0s 400us/step - loss: 0.1724 - acc: 0.9143 - val_loss: 0.1711 - val_acc: 0.9143\n",
      "Epoch 167/250\n",
      "15/15 [==============================] - 0s 267us/step - loss: 0.1711 - acc: 0.9143 - val_loss: 0.1698 - val_acc: 0.9048\n",
      "Epoch 168/250\n",
      "15/15 [==============================] - 0s 267us/step - loss: 0.1698 - acc: 0.9048 - val_loss: 0.1686 - val_acc: 0.9048\n",
      "Epoch 169/250\n",
      "15/15 [==============================] - 0s 200us/step - loss: 0.1686 - acc: 0.9048 - val_loss: 0.1673 - val_acc: 0.9048\n",
      "Epoch 170/250\n",
      "15/15 [==============================] - 0s 533us/step - loss: 0.1673 - acc: 0.9048 - val_loss: 0.1661 - val_acc: 0.9048\n",
      "Epoch 171/250\n",
      "15/15 [==============================] - 0s 400us/step - loss: 0.1661 - acc: 0.9048 - val_loss: 0.1649 - val_acc: 0.9048\n",
      "Epoch 172/250\n",
      "15/15 [==============================] - 0s 333us/step - loss: 0.1649 - acc: 0.9048 - val_loss: 0.1637 - val_acc: 0.9048\n",
      "Epoch 173/250\n",
      "15/15 [==============================] - 0s 400us/step - loss: 0.1637 - acc: 0.9048 - val_loss: 0.1625 - val_acc: 0.9048\n",
      "Epoch 174/250\n",
      "15/15 [==============================] - 0s 267us/step - loss: 0.1625 - acc: 0.9048 - val_loss: 0.1612 - val_acc: 0.9048\n",
      "Epoch 175/250\n",
      "15/15 [==============================] - 0s 333us/step - loss: 0.1612 - acc: 0.9048 - val_loss: 0.1601 - val_acc: 0.9048\n",
      "Epoch 176/250\n",
      "15/15 [==============================] - 0s 600us/step - loss: 0.1601 - acc: 0.9048 - val_loss: 0.1589 - val_acc: 0.9143\n",
      "Epoch 177/250\n",
      "15/15 [==============================] - 0s 333us/step - loss: 0.1589 - acc: 0.9143 - val_loss: 0.1577 - val_acc: 0.9143\n",
      "Epoch 178/250\n",
      "15/15 [==============================] - 0s 267us/step - loss: 0.1577 - acc: 0.9143 - val_loss: 0.1565 - val_acc: 0.9238\n",
      "Epoch 179/250\n",
      "15/15 [==============================] - 0s 533us/step - loss: 0.1565 - acc: 0.9238 - val_loss: 0.1554 - val_acc: 0.9238\n",
      "Epoch 180/250\n",
      "15/15 [==============================] - 0s 400us/step - loss: 0.1554 - acc: 0.9238 - val_loss: 0.1542 - val_acc: 0.9238\n",
      "Epoch 181/250\n",
      "15/15 [==============================] - 0s 333us/step - loss: 0.1542 - acc: 0.9238 - val_loss: 0.1531 - val_acc: 0.9238\n",
      "Epoch 182/250\n",
      "15/15 [==============================] - 0s 400us/step - loss: 0.1531 - acc: 0.9238 - val_loss: 0.1519 - val_acc: 0.9238\n",
      "Epoch 183/250\n",
      "15/15 [==============================] - 0s 933us/step - loss: 0.1519 - acc: 0.9238 - val_loss: 0.1508 - val_acc: 0.9238\n"
     ]
    },
    {
     "name": "stdout",
     "output_type": "stream",
     "text": [
      "Epoch 184/250\n",
      "15/15 [==============================] - 0s 200us/step - loss: 0.1508 - acc: 0.9238 - val_loss: 0.1497 - val_acc: 0.9333\n",
      "Epoch 185/250\n",
      "15/15 [==============================] - 0s 200us/step - loss: 0.1497 - acc: 0.9333 - val_loss: 0.1486 - val_acc: 0.9333\n",
      "Epoch 186/250\n",
      "15/15 [==============================] - 0s 200us/step - loss: 0.1486 - acc: 0.9333 - val_loss: 0.1475 - val_acc: 0.9333\n",
      "Epoch 187/250\n",
      "15/15 [==============================] - 0s 200us/step - loss: 0.1475 - acc: 0.9333 - val_loss: 0.1464 - val_acc: 0.9429\n",
      "Epoch 188/250\n",
      "15/15 [==============================] - 0s 200us/step - loss: 0.1464 - acc: 0.9429 - val_loss: 0.1453 - val_acc: 0.9524\n",
      "Epoch 189/250\n",
      "15/15 [==============================] - 0s 200us/step - loss: 0.1453 - acc: 0.9524 - val_loss: 0.1442 - val_acc: 0.9524\n",
      "Epoch 190/250\n",
      "15/15 [==============================] - 0s 200us/step - loss: 0.1442 - acc: 0.9524 - val_loss: 0.1431 - val_acc: 0.9524\n",
      "Epoch 191/250\n",
      "15/15 [==============================] - 0s 200us/step - loss: 0.1431 - acc: 0.9524 - val_loss: 0.1420 - val_acc: 0.9524\n",
      "Epoch 192/250\n",
      "15/15 [==============================] - 0s 200us/step - loss: 0.1420 - acc: 0.9524 - val_loss: 0.1408 - val_acc: 0.9524\n",
      "Epoch 193/250\n",
      "15/15 [==============================] - 0s 200us/step - loss: 0.1408 - acc: 0.9524 - val_loss: 0.1397 - val_acc: 0.9524\n",
      "Epoch 194/250\n",
      "15/15 [==============================] - 0s 200us/step - loss: 0.1397 - acc: 0.9524 - val_loss: 0.1386 - val_acc: 0.9524\n",
      "Epoch 195/250\n",
      "15/15 [==============================] - 0s 200us/step - loss: 0.1386 - acc: 0.9524 - val_loss: 0.1375 - val_acc: 0.9524\n",
      "Epoch 196/250\n",
      "15/15 [==============================] - 0s 267us/step - loss: 0.1375 - acc: 0.9524 - val_loss: 0.1365 - val_acc: 0.9524\n",
      "Epoch 197/250\n",
      "15/15 [==============================] - 0s 200us/step - loss: 0.1365 - acc: 0.9524 - val_loss: 0.1354 - val_acc: 0.9524\n",
      "Epoch 198/250\n",
      "15/15 [==============================] - 0s 267us/step - loss: 0.1354 - acc: 0.9524 - val_loss: 0.1343 - val_acc: 0.9524\n",
      "Epoch 199/250\n",
      "15/15 [==============================] - 0s 200us/step - loss: 0.1343 - acc: 0.9524 - val_loss: 0.1332 - val_acc: 0.9524\n",
      "Epoch 200/250\n",
      "15/15 [==============================] - 0s 200us/step - loss: 0.1332 - acc: 0.9524 - val_loss: 0.1322 - val_acc: 0.9524\n",
      "Epoch 201/250\n",
      "15/15 [==============================] - 0s 200us/step - loss: 0.1322 - acc: 0.9524 - val_loss: 0.1312 - val_acc: 0.9524\n",
      "Epoch 202/250\n",
      "15/15 [==============================] - 0s 1ms/step - loss: 0.1312 - acc: 0.9524 - val_loss: 0.1301 - val_acc: 0.9524\n",
      "Epoch 203/250\n",
      "15/15 [==============================] - 0s 2ms/step - loss: 0.1301 - acc: 0.9524 - val_loss: 0.1291 - val_acc: 0.9524\n",
      "Epoch 204/250\n",
      "15/15 [==============================] - 0s 533us/step - loss: 0.1291 - acc: 0.9524 - val_loss: 0.1281 - val_acc: 0.9524\n",
      "Epoch 205/250\n",
      "15/15 [==============================] - 0s 667us/step - loss: 0.1281 - acc: 0.9524 - val_loss: 0.1270 - val_acc: 0.9524\n",
      "Epoch 206/250\n",
      "15/15 [==============================] - 0s 200us/step - loss: 0.1270 - acc: 0.9524 - val_loss: 0.1260 - val_acc: 0.9524\n",
      "Epoch 207/250\n",
      "15/15 [==============================] - 0s 733us/step - loss: 0.1260 - acc: 0.9524 - val_loss: 0.1250 - val_acc: 0.9524\n",
      "Epoch 208/250\n",
      "15/15 [==============================] - 0s 400us/step - loss: 0.1250 - acc: 0.9524 - val_loss: 0.1240 - val_acc: 0.9524\n",
      "Epoch 209/250\n",
      "15/15 [==============================] - 0s 667us/step - loss: 0.1240 - acc: 0.9524 - val_loss: 0.1230 - val_acc: 0.9524\n",
      "Epoch 210/250\n",
      "15/15 [==============================] - 0s 333us/step - loss: 0.1230 - acc: 0.9524 - val_loss: 0.1220 - val_acc: 0.9524\n",
      "Epoch 211/250\n",
      "15/15 [==============================] - 0s 200us/step - loss: 0.1220 - acc: 0.9524 - val_loss: 0.1209 - val_acc: 0.9524\n",
      "Epoch 212/250\n",
      "15/15 [==============================] - 0s 1ms/step - loss: 0.1209 - acc: 0.9524 - val_loss: 0.1199 - val_acc: 0.9619\n",
      "Epoch 213/250\n",
      "15/15 [==============================] - 0s 533us/step - loss: 0.1199 - acc: 0.9619 - val_loss: 0.1189 - val_acc: 0.9619\n",
      "Epoch 214/250\n",
      "15/15 [==============================] - 0s 200us/step - loss: 0.1189 - acc: 0.9619 - val_loss: 0.1179 - val_acc: 0.9619\n",
      "Epoch 215/250\n",
      "15/15 [==============================] - 0s 200us/step - loss: 0.1179 - acc: 0.9619 - val_loss: 0.1168 - val_acc: 0.9619\n",
      "Epoch 216/250\n",
      "15/15 [==============================] - 0s 667us/step - loss: 0.1168 - acc: 0.9619 - val_loss: 0.1158 - val_acc: 0.9619\n",
      "Epoch 217/250\n",
      "15/15 [==============================] - 0s 467us/step - loss: 0.1158 - acc: 0.9619 - val_loss: 0.1148 - val_acc: 0.9619\n",
      "Epoch 218/250\n",
      "15/15 [==============================] - 0s 333us/step - loss: 0.1148 - acc: 0.9619 - val_loss: 0.1138 - val_acc: 0.9619\n",
      "Epoch 219/250\n",
      "15/15 [==============================] - 0s 600us/step - loss: 0.1138 - acc: 0.9619 - val_loss: 0.1128 - val_acc: 0.9619\n",
      "Epoch 220/250\n",
      "15/15 [==============================] - 0s 400us/step - loss: 0.1128 - acc: 0.9619 - val_loss: 0.1118 - val_acc: 0.9619\n",
      "Epoch 221/250\n",
      "15/15 [==============================] - 0s 600us/step - loss: 0.1118 - acc: 0.9619 - val_loss: 0.1108 - val_acc: 0.9619\n",
      "Epoch 222/250\n",
      "15/15 [==============================] - 0s 333us/step - loss: 0.1108 - acc: 0.9619 - val_loss: 0.1099 - val_acc: 0.9619\n",
      "Epoch 223/250\n",
      "15/15 [==============================] - 0s 200us/step - loss: 0.1099 - acc: 0.9619 - val_loss: 0.1089 - val_acc: 0.9619\n",
      "Epoch 224/250\n",
      "15/15 [==============================] - 0s 600us/step - loss: 0.1089 - acc: 0.9619 - val_loss: 0.1079 - val_acc: 0.9619\n",
      "Epoch 225/250\n",
      "15/15 [==============================] - 0s 467us/step - loss: 0.1079 - acc: 0.9619 - val_loss: 0.1069 - val_acc: 0.9619\n",
      "Epoch 226/250\n",
      "15/15 [==============================] - 0s 267us/step - loss: 0.1069 - acc: 0.9619 - val_loss: 0.1059 - val_acc: 0.9619\n",
      "Epoch 227/250\n",
      "15/15 [==============================] - 0s 733us/step - loss: 0.1059 - acc: 0.9619 - val_loss: 0.1049 - val_acc: 0.9619\n",
      "Epoch 228/250\n",
      "15/15 [==============================] - 0s 400us/step - loss: 0.1049 - acc: 0.9619 - val_loss: 0.1039 - val_acc: 0.9619\n",
      "Epoch 229/250\n",
      "15/15 [==============================] - 0s 733us/step - loss: 0.1039 - acc: 0.9619 - val_loss: 0.1028 - val_acc: 0.9619\n",
      "Epoch 230/250\n",
      "15/15 [==============================] - 0s 200us/step - loss: 0.1028 - acc: 0.9619 - val_loss: 0.1018 - val_acc: 0.9619\n",
      "Epoch 231/250\n",
      "15/15 [==============================] - 0s 267us/step - loss: 0.1018 - acc: 0.9619 - val_loss: 0.1007 - val_acc: 0.9619\n",
      "Epoch 232/250\n",
      "15/15 [==============================] - 0s 267us/step - loss: 0.1007 - acc: 0.9619 - val_loss: 0.0996 - val_acc: 0.9619\n",
      "Epoch 233/250\n",
      "15/15 [==============================] - 0s 1ms/step - loss: 0.0996 - acc: 0.9619 - val_loss: 0.0986 - val_acc: 0.9619\n",
      "Epoch 234/250\n",
      "15/15 [==============================] - 0s 667us/step - loss: 0.0986 - acc: 0.9619 - val_loss: 0.0975 - val_acc: 0.9619\n",
      "Epoch 235/250\n",
      "15/15 [==============================] - 0s 200us/step - loss: 0.0975 - acc: 0.9619 - val_loss: 0.0965 - val_acc: 0.9619\n",
      "Epoch 236/250\n",
      "15/15 [==============================] - 0s 533us/step - loss: 0.0965 - acc: 0.9619 - val_loss: 0.0954 - val_acc: 0.9714\n",
      "Epoch 237/250\n",
      "15/15 [==============================] - 0s 333us/step - loss: 0.0954 - acc: 0.9714 - val_loss: 0.0943 - val_acc: 0.9714\n",
      "Epoch 238/250\n",
      "15/15 [==============================] - 0s 200us/step - loss: 0.0943 - acc: 0.9714 - val_loss: 0.0933 - val_acc: 0.9714\n",
      "Epoch 239/250\n",
      "15/15 [==============================] - 0s 733us/step - loss: 0.0933 - acc: 0.9714 - val_loss: 0.0922 - val_acc: 0.9714\n",
      "Epoch 240/250\n",
      "15/15 [==============================] - 0s 200us/step - loss: 0.0922 - acc: 0.9714 - val_loss: 0.0912 - val_acc: 0.9810\n",
      "Epoch 241/250\n",
      "15/15 [==============================] - 0s 267us/step - loss: 0.0912 - acc: 0.9810 - val_loss: 0.0902 - val_acc: 0.9810\n",
      "Epoch 242/250\n",
      "15/15 [==============================] - 0s 200us/step - loss: 0.0902 - acc: 0.9810 - val_loss: 0.0891 - val_acc: 0.9810\n",
      "Epoch 243/250\n",
      "15/15 [==============================] - 0s 600us/step - loss: 0.0891 - acc: 0.9810 - val_loss: 0.0880 - val_acc: 0.9810\n",
      "Epoch 244/250\n",
      "15/15 [==============================] - 0s 600us/step - loss: 0.0880 - acc: 0.9810 - val_loss: 0.0869 - val_acc: 0.9810\n"
     ]
    },
    {
     "name": "stdout",
     "output_type": "stream",
     "text": [
      "Epoch 245/250\n",
      "15/15 [==============================] - 0s 267us/step - loss: 0.0869 - acc: 0.9810 - val_loss: 0.0859 - val_acc: 0.9810\n",
      "Epoch 246/250\n",
      "15/15 [==============================] - 0s 200us/step - loss: 0.0859 - acc: 0.9810 - val_loss: 0.0848 - val_acc: 0.9810\n",
      "Epoch 247/250\n",
      "15/15 [==============================] - 0s 200us/step - loss: 0.0848 - acc: 0.9810 - val_loss: 0.0837 - val_acc: 0.9810\n",
      "Epoch 248/250\n",
      "15/15 [==============================] - 0s 267us/step - loss: 0.0837 - acc: 0.9810 - val_loss: 0.0827 - val_acc: 0.9810\n",
      "Epoch 249/250\n",
      "15/15 [==============================] - 0s 200us/step - loss: 0.0827 - acc: 0.9810 - val_loss: 0.0817 - val_acc: 0.9810\n",
      "Epoch 250/250\n",
      "15/15 [==============================] - 0s 1ms/step - loss: 0.0817 - acc: 0.9810 - val_loss: 0.0806 - val_acc: 0.9905\n"
     ]
    }
   ],
   "source": [
    "history=model.fit(Yvei,x_train,epochs=250,batch_size=512,validation_data=(Yvei,x_train))"
   ]
  },
  {
   "cell_type": "code",
   "execution_count": 85,
   "metadata": {},
   "outputs": [
    {
     "data": {
      "text/plain": [
       "array([0], dtype=int64)"
      ]
     },
     "execution_count": 85,
     "metadata": {},
     "output_type": "execute_result"
    }
   ],
   "source": [
    "model.predict_classes(yei_vect[5].reshape(35,-1).T)"
   ]
  },
  {
   "cell_type": "code",
   "execution_count": 27,
   "metadata": {},
   "outputs": [],
   "source": [
    "import matplotlib.pyplot as plt"
   ]
  },
  {
   "cell_type": "code",
   "execution_count": 139,
   "metadata": {},
   "outputs": [
    {
     "data": {
      "image/png": "[encoded data removed]",
      "text/plain": [
       "<Figure size 432x288 with 1 Axes>"
      ]
     },
     "metadata": {
      "needs_background": "light"
     },
     "output_type": "display_data"
    }
   ],
   "source": [
    "acc=history.history['acc']\n",
    "val_acc=history.history['val_acc']\n",
    "loss=history.history['loss']\n",
    "val_loss=history.history['val_loss']\n",
    "epochs=range(1,len(acc)+1)\n",
    "plt.plot(epochs,loss,'bo',label='Training loss')\n",
    "plt.plot(epochs,val_loss,'b',label=\"Validation loss\")\n",
    "plt.title('Training and accuracy')\n",
    "plt.xlabel('Epochs')\n",
    "plt.ylabel('Loss')\n",
    "plt.legend()\n",
    "\n",
    "plt.show()"
   ]
  },
  {
   "cell_type": "code",
   "execution_count": 113,
   "metadata": {},
   "outputs": [],
   "source": [
    "toastdata=pd.read_csv(\"test_clarin.csv\")"
   ]
  },
  {
   "cell_type": "code",
   "execution_count": 172,
   "metadata": {},
   "outputs": [
    {
     "data": {
      "text/html": [
       "<div>\n",
       "<style scoped>\n",
       "    .dataframe tbody tr th:only-of-type {\n",
       "        vertical-align: middle;\n",
       "    }\n",
       "\n",
       "    .dataframe tbody tr th {\n",
       "        vertical-align: top;\n",
       "    }\n",
       "\n",
       "    .dataframe thead th {\n",
       "        text-align: right;\n",
       "    }\n",
       "</style>\n",
       "<table border=\"1\" class=\"dataframe\">\n",
       "  <thead>\n",
       "    <tr style=\"text-align: right;\">\n",
       "      <th></th>\n",
       "      <th>titulos</th>\n",
       "      <th>subtitulos</th>\n",
       "    </tr>\n",
       "  </thead>\n",
       "  <tbody>\n",
       "    <tr>\n",
       "      <th>0</th>\n",
       "      <td>Inmuebles</td>\n",
       "      <td>Automotores</td>\n",
       "    </tr>\n",
       "    <tr>\n",
       "      <th>1</th>\n",
       "      <td>Inmuebles</td>\n",
       "      <td>Repuestos y Accesorios para Autos. Sistemas de...</td>\n",
       "    </tr>\n",
       "    <tr>\n",
       "      <th>2</th>\n",
       "      <td>Inmuebles</td>\n",
       "      <td>Transporte de Carga, Camiones, Acoplados, Cole...</td>\n",
       "    </tr>\n",
       "    <tr>\n",
       "      <th>3</th>\n",
       "      <td>Inmuebles</td>\n",
       "      <td>Autos de Colección(2)</td>\n",
       "    </tr>\n",
       "    <tr>\n",
       "      <th>4</th>\n",
       "      <td>Inmuebles</td>\n",
       "      <td>Náutica, Aviación, Casas Rodantes, Motorhomes....</td>\n",
       "    </tr>\n",
       "    <tr>\n",
       "      <th>5</th>\n",
       "      <td>Automotores</td>\n",
       "      <td>Empleos</td>\n",
       "    </tr>\n",
       "    <tr>\n",
       "      <th>6</th>\n",
       "      <td>Automotores</td>\n",
       "      <td>Empleados, Vendedores, Ejecutivos de Cuentas, ...</td>\n",
       "    </tr>\n",
       "    <tr>\n",
       "      <th>7</th>\n",
       "      <td>Automotores</td>\n",
       "      <td>Profesionales y Ejecutivos(72)</td>\n",
       "    </tr>\n",
       "    <tr>\n",
       "      <th>8</th>\n",
       "      <td>Automotores</td>\n",
       "      <td>Enseñanza, Capacitación, Cursos y Docentes(27)</td>\n",
       "    </tr>\n",
       "    <tr>\n",
       "      <th>9</th>\n",
       "      <td>Automotores</td>\n",
       "      <td>Electrónicos. Comunicaciones, Mecánicos, Quími...</td>\n",
       "    </tr>\n",
       "    <tr>\n",
       "      <th>10</th>\n",
       "      <td>Empleos</td>\n",
       "      <td>Servicios</td>\n",
       "    </tr>\n",
       "    <tr>\n",
       "      <th>11</th>\n",
       "      <td>Empleos</td>\n",
       "      <td>Servicios Automotores y Choferes(39)</td>\n",
       "    </tr>\n",
       "    <tr>\n",
       "      <th>12</th>\n",
       "      <td>Empleos</td>\n",
       "      <td>Negocios y Socios(34)</td>\n",
       "    </tr>\n",
       "    <tr>\n",
       "      <th>13</th>\n",
       "      <td>Empleos</td>\n",
       "      <td>Salud(20)</td>\n",
       "    </tr>\n",
       "    <tr>\n",
       "      <th>14</th>\n",
       "      <td>Empleos</td>\n",
       "      <td>Legales(17)</td>\n",
       "    </tr>\n",
       "    <tr>\n",
       "      <th>15</th>\n",
       "      <td>Servicios</td>\n",
       "      <td>Mix</td>\n",
       "    </tr>\n",
       "    <tr>\n",
       "      <th>16</th>\n",
       "      <td>Servicios</td>\n",
       "      <td>Sex shops(12)</td>\n",
       "    </tr>\n",
       "    <tr>\n",
       "      <th>17</th>\n",
       "      <td>Servicios</td>\n",
       "      <td>Ofertas, Trueques y Permutas(9)</td>\n",
       "    </tr>\n",
       "    <tr>\n",
       "      <th>18</th>\n",
       "      <td>Servicios</td>\n",
       "      <td>Indumentaria y Accesorios(6)</td>\n",
       "    </tr>\n",
       "    <tr>\n",
       "      <th>19</th>\n",
       "      <td>Servicios</td>\n",
       "      <td>Máquinas de coser, overlock y de tejer(5)</td>\n",
       "    </tr>\n",
       "  </tbody>\n",
       "</table>\n",
       "</div>"
      ],
      "text/plain": [
       "        titulos                                         subtitulos\n",
       "0     Inmuebles                                        Automotores\n",
       "1     Inmuebles  Repuestos y Accesorios para Autos. Sistemas de...\n",
       "2     Inmuebles  Transporte de Carga, Camiones, Acoplados, Cole...\n",
       "3     Inmuebles                              Autos de Colección(2)\n",
       "4     Inmuebles  Náutica, Aviación, Casas Rodantes, Motorhomes....\n",
       "5   Automotores                                            Empleos\n",
       "6   Automotores  Empleados, Vendedores, Ejecutivos de Cuentas, ...\n",
       "7   Automotores                     Profesionales y Ejecutivos(72)\n",
       "8   Automotores     Enseñanza, Capacitación, Cursos y Docentes(27)\n",
       "9   Automotores  Electrónicos. Comunicaciones, Mecánicos, Quími...\n",
       "10      Empleos                                          Servicios\n",
       "11      Empleos               Servicios Automotores y Choferes(39)\n",
       "12      Empleos                              Negocios y Socios(34)\n",
       "13      Empleos                                          Salud(20)\n",
       "14      Empleos                                        Legales(17)\n",
       "15    Servicios                                                Mix\n",
       "16    Servicios                                      Sex shops(12)\n",
       "17    Servicios                    Ofertas, Trueques y Permutas(9)\n",
       "18    Servicios                       Indumentaria y Accesorios(6)\n",
       "19    Servicios          Máquinas de coser, overlock y de tejer(5)"
      ]
     },
     "execution_count": 172,
     "metadata": {},
     "output_type": "execute_result"
    }
   ],
   "source": [
    "diccionario3={\"titulos\":[],\"subtitulos\":[]}\n",
    "for i in toastdata.T:\n",
    "    for j in toastdata.T[i]:\n",
    "        diccionario3[\"titulos\"].append(df.iloc[i,0])\n",
    "        diccionario3[\"subtitulos\"].append(j)\n",
    "\n",
    "datosT=pd.DataFrame(diccionario3)\n",
    "datosT"
   ]
  },
  {
   "cell_type": "code",
   "execution_count": 148,
   "metadata": {},
   "outputs": [],
   "source": [
    "ytest=datosT.iloc[:,1:]"
   ]
  },
  {
   "cell_type": "code",
   "execution_count": 149,
   "metadata": {},
   "outputs": [],
   "source": [
    "ytest=ytest.values"
   ]
  },
  {
   "cell_type": "code",
   "execution_count": 150,
   "metadata": {},
   "outputs": [],
   "source": [
    "ytest=one_hotear(ytest)"
   ]
  },
  {
   "cell_type": "code",
   "execution_count": 153,
   "metadata": {},
   "outputs": [],
   "source": [
    "ytest=vectorizar(ytest)"
   ]
  },
  {
   "cell_type": "code",
   "execution_count": 157,
   "metadata": {},
   "outputs": [
    {
     "data": {
      "text/plain": [
       "array([0., 0., 0., 0., 0., 1., 0., 0., 0., 0., 0., 0., 0., 0., 0., 0., 0.,\n",
       "       0., 0., 0., 0., 0., 0., 0., 0., 0., 0., 0., 0., 0., 0., 0., 0., 0.,\n",
       "       0.])"
      ]
     },
     "execution_count": 157,
     "metadata": {},
     "output_type": "execute_result"
    }
   ],
   "source": [
    "ytest[4]"
   ]
  },
  {
   "cell_type": "code",
   "execution_count": 174,
   "metadata": {},
   "outputs": [
    {
     "data": {
      "text/plain": [
       "array([0], dtype=int64)"
      ]
     },
     "execution_count": 174,
     "metadata": {},
     "output_type": "execute_result"
    }
   ],
   "source": [
    "model.predict_classes(ytest[16].reshape(35,-1).T)"
   ]
  },
  {
   "cell_type": "code",
   "execution_count": null,
   "metadata": {},
   "outputs": [],
   "source": []
  }
 ],
 "metadata": {
  "kernelspec": {
   "display_name": "Python 3",
   "language": "python",
   "name": "python3"
  },
  "language_info": {
   "codemirror_mode": {
    "name": "ipython",
    "version": 3
   },
   "file_extension": ".py",
   "mimetype": "text/x-python",
   "name": "python",
   "nbconvert_exporter": "python",
   "pygments_lexer": "ipython3",
   "version": "3.6.8"
  }
 },
 "nbformat": 4,
 "nbformat_minor": 2
}
